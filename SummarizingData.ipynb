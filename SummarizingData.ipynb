{
  "nbformat": 4,
  "nbformat_minor": 0,
  "metadata": {
    "colab": {
      "name": "SummarizingData",
      "provenance": [],
      "collapsed_sections": [],
      "authorship_tag": "ABX9TyMPLyUP3VOYAUOoRJdAtCIt",
      "include_colab_link": true
    },
    "kernelspec": {
      "name": "python3",
      "display_name": "Python 3"
    },
    "language_info": {
      "name": "python"
    }
  },
  "cells": [
    {
      "cell_type": "markdown",
      "metadata": {
        "id": "view-in-github",
        "colab_type": "text"
      },
      "source": [
        "<a href=\"https://colab.research.google.com/github/Myungeun-Lee/pythonpractice/blob/main/SummarizingData.ipynb\" target=\"_parent\"><img src=\"https://colab.research.google.com/assets/colab-badge.svg\" alt=\"Open In Colab\"/></a>"
      ]
    },
    {
      "cell_type": "code",
      "metadata": {
        "id": "w6vwVoHTDhU-"
      },
      "source": [
        "import matplotlib.pyplot as plt\n",
        "import seaborn as sns\n",
        "import numpy as np\n",
        "import pandas as pd"
      ],
      "execution_count": null,
      "outputs": []
    },
    {
      "cell_type": "code",
      "metadata": {
        "colab": {
          "base_uri": "https://localhost:8080/"
        },
        "id": "rVFEgA_HDuPO",
        "outputId": "d0b4041f-3df4-441a-f7ea-d25a9da645e7"
      },
      "source": [
        "!pip install nhanes\n",
        "from nhanes.load import load_NHANES_data\n",
        "nhanes_data = load_NHANES_data()"
      ],
      "execution_count": null,
      "outputs": [
        {
          "output_type": "stream",
          "text": [
            "Requirement already satisfied: nhanes in /usr/local/lib/python3.7/dist-packages (0.5.1)\n"
          ],
          "name": "stdout"
        }
      ]
    },
    {
      "cell_type": "code",
      "metadata": {
        "colab": {
          "base_uri": "https://localhost:8080/"
        },
        "id": "bmeDUleiHCYi",
        "outputId": "de75cf6a-3890-47aa-c0b5-607258127912"
      },
      "source": [
        "!pip install nhanes"
      ],
      "execution_count": null,
      "outputs": [
        {
          "output_type": "stream",
          "text": [
            "Collecting nhanes\n",
            "  Downloading nhanes-0.5.1-py3-none-any.whl (1.6 MB)\n",
            "\u001b[K     |████████████████████████████████| 1.6 MB 4.0 MB/s \n",
            "\u001b[?25hInstalling collected packages: nhanes\n",
            "Successfully installed nhanes-0.5.1\n"
          ],
          "name": "stdout"
        }
      ]
    },
    {
      "cell_type": "code",
      "metadata": {
        "id": "YpZpCi2dEiu-"
      },
      "source": [
        "from nhanes.load import load_NHANES_data, load_NHANES_metadata\n",
        "\n",
        "data_df = load_NHANES_data(year='2017-2018')\n",
        "metadata_df = load_NHANES_metadata(year='2017-2018')"
      ],
      "execution_count": null,
      "outputs": []
    },
    {
      "cell_type": "code",
      "metadata": {
        "id": "U1-gCb4dIIpo"
      },
      "source": [
        "from nhanes.load import load_NHANES_data\n",
        "nhanes_data = load_NHANES_data()"
      ],
      "execution_count": null,
      "outputs": []
    },
    {
      "cell_type": "code",
      "metadata": {
        "colab": {
          "base_uri": "https://localhost:8080/",
          "height": 318
        },
        "id": "FZBDRd3-IfrA",
        "outputId": "d0f48a3d-6e8b-4e37-faab-d537367a0f9a"
      },
      "source": [
        "nhanes_data.head()"
      ],
      "execution_count": null,
      "outputs": [
        {
          "output_type": "execute_result",
          "data": {
            "text/html": [
              "<div>\n",
              "<style scoped>\n",
              "    .dataframe tbody tr th:only-of-type {\n",
              "        vertical-align: middle;\n",
              "    }\n",
              "\n",
              "    .dataframe tbody tr th {\n",
              "        vertical-align: top;\n",
              "    }\n",
              "\n",
              "    .dataframe thead th {\n",
              "        text-align: right;\n",
              "    }\n",
              "</style>\n",
              "<table border=\"1\" class=\"dataframe\">\n",
              "  <thead>\n",
              "    <tr style=\"text-align: right;\">\n",
              "      <th></th>\n",
              "      <th>GeneralHealthCondition</th>\n",
              "      <th>EverBreastfedOrFedBreastmilk</th>\n",
              "      <th>AgeStoppedBreastfeedingdays</th>\n",
              "      <th>AgeFirstFedFormuladays</th>\n",
              "      <th>AgeStoppedReceivingFormuladays</th>\n",
              "      <th>AgeStartedOtherFoodbeverage</th>\n",
              "      <th>AgeFirstFedMilkdays</th>\n",
              "      <th>TypeOfMilkFirstFedWholeMilk</th>\n",
              "      <th>TypeOfMilkFirstFed2Milk</th>\n",
              "      <th>TypeOfMilkFirstFed1Milk</th>\n",
              "      <th>TypeOfMilkFirstFedFatFreeMilk</th>\n",
              "      <th>TypeOfMilkFirstFedSoyMilk</th>\n",
              "      <th>TypeOfMilkFirstFedOther</th>\n",
              "      <th>HowHealthyIsTheDiet</th>\n",
              "      <th>Past30DayMilkProductConsumption</th>\n",
              "      <th>YouDrinkWholeOrRegularMilk</th>\n",
              "      <th>YouDrink2FatMilk</th>\n",
              "      <th>YouDrink1FatMilk</th>\n",
              "      <th>YouDrinkFatFreeskimMilk</th>\n",
              "      <th>YouDrinkSoyMilk</th>\n",
              "      <th>YouDrinkAnotherTypeOfMilk</th>\n",
              "      <th>RegularMilkUse5TimesPerWeek</th>\n",
              "      <th>HowOftenDrankMilkAge512</th>\n",
              "      <th>HowOftenDrankMilkAge1317</th>\n",
              "      <th>HowOftenDrankMilkAge1835</th>\n",
              "      <th>CommunitygovernmentMealsDelivered</th>\n",
              "      <th>EatMealsAtCommunityseniorCenter</th>\n",
              "      <th>AttendKindergartenThruHighSchool</th>\n",
              "      <th>SchoolServesSchoolLunches</th>\n",
              "      <th>OfTimesweekGetSchoolLunch</th>\n",
              "      <th>SchoolLunchFreeReducedOrFullPrice</th>\n",
              "      <th>SchoolServeCompleteBreakfastEachDay</th>\n",
              "      <th>OfTimesweekGetSchoolBreakfast</th>\n",
              "      <th>SchoolBreakfastFreereducedfullPrice</th>\n",
              "      <th>SummerProgramMealFreereducedPrice</th>\n",
              "      <th>OfMealsNotHomePrepared</th>\n",
              "      <th>OfMealsFromFastFoodOrPizzaPlace</th>\n",
              "      <th>OfReadytoeatFoodsInPast30Days</th>\n",
              "      <th>OfFrozenMealspizzaInPast30Days</th>\n",
              "      <th>HeardOfMyPlate</th>\n",
              "      <th>...</th>\n",
              "      <th>OnSpecialDiet</th>\n",
              "      <th>WeightLosslowCalorieDiet</th>\n",
              "      <th>LowFatlowCholesterolDiet</th>\n",
              "      <th>LowSaltlowSodiumDiet</th>\n",
              "      <th>DiabeticDiet</th>\n",
              "      <th>LowCarbohydrateDiet</th>\n",
              "      <th>EnergyKcal_DR1TOT</th>\n",
              "      <th>ProteinGm_DR1TOT</th>\n",
              "      <th>CarbohydrateGm_DR1TOT</th>\n",
              "      <th>TotalSugarsGm_DR1TOT</th>\n",
              "      <th>DietaryFiberGm_DR1TOT</th>\n",
              "      <th>TotalFatGm_DR1TOT</th>\n",
              "      <th>TotalSaturatedFattyAcidsGm_DR1TOT</th>\n",
              "      <th>TotalMonounsaturatedFattyAcidsGm_DR1TOT</th>\n",
              "      <th>TotalPolyunsaturatedFattyAcidsGm_DR1TOT</th>\n",
              "      <th>CholesterolMg_DR1TOT</th>\n",
              "      <th>AlcoholGm_DR1TOT</th>\n",
              "      <th>TunaEatenDuringPast30Days</th>\n",
              "      <th>DoctorToldYouHaveDiabetes</th>\n",
              "      <th>AgeWhenFirstToldYouHadDiabetes</th>\n",
              "      <th>EverToldYouHavePrediabetes</th>\n",
              "      <th>EverToldHaveHealthRiskForDiabetes</th>\n",
              "      <th>FamilyHistory</th>\n",
              "      <th>TakingInsulinNow</th>\n",
              "      <th>TakeDiabeticPillsToLowerBloodSugar</th>\n",
              "      <th>WhatWasYourLastA1CLevel</th>\n",
              "      <th>Glycohemoglobin</th>\n",
              "      <th>SmokedAtLeast100CigarettesInLife</th>\n",
              "      <th>AgeStartedSmokingCigarettesRegularly</th>\n",
              "      <th>DoYouNowSmokeCigarettes</th>\n",
              "      <th>DaysSmokedCigsDuringPast30Days</th>\n",
              "      <th>AvgCigarettesdayDuringPast30Days</th>\n",
              "      <th>TriedToQuitSmoking</th>\n",
              "      <th>TimesStoppedSmokingCigarettes</th>\n",
              "      <th>HowLongWereYouAbleToStopSmoking</th>\n",
              "      <th>UnitOfMeasureDayweekmonthyear_2_SMQ</th>\n",
              "      <th>CurrentSelfreportedHeightInches</th>\n",
              "      <th>CurrentSelfreportedWeightPounds</th>\n",
              "      <th>TriedToLoseWeightInPastYear</th>\n",
              "      <th>TimesLost10LbsOrMoreToLoseWeight</th>\n",
              "    </tr>\n",
              "    <tr>\n",
              "      <th>SEQN</th>\n",
              "      <th></th>\n",
              "      <th></th>\n",
              "      <th></th>\n",
              "      <th></th>\n",
              "      <th></th>\n",
              "      <th></th>\n",
              "      <th></th>\n",
              "      <th></th>\n",
              "      <th></th>\n",
              "      <th></th>\n",
              "      <th></th>\n",
              "      <th></th>\n",
              "      <th></th>\n",
              "      <th></th>\n",
              "      <th></th>\n",
              "      <th></th>\n",
              "      <th></th>\n",
              "      <th></th>\n",
              "      <th></th>\n",
              "      <th></th>\n",
              "      <th></th>\n",
              "      <th></th>\n",
              "      <th></th>\n",
              "      <th></th>\n",
              "      <th></th>\n",
              "      <th></th>\n",
              "      <th></th>\n",
              "      <th></th>\n",
              "      <th></th>\n",
              "      <th></th>\n",
              "      <th></th>\n",
              "      <th></th>\n",
              "      <th></th>\n",
              "      <th></th>\n",
              "      <th></th>\n",
              "      <th></th>\n",
              "      <th></th>\n",
              "      <th></th>\n",
              "      <th></th>\n",
              "      <th></th>\n",
              "      <th></th>\n",
              "      <th></th>\n",
              "      <th></th>\n",
              "      <th></th>\n",
              "      <th></th>\n",
              "      <th></th>\n",
              "      <th></th>\n",
              "      <th></th>\n",
              "      <th></th>\n",
              "      <th></th>\n",
              "      <th></th>\n",
              "      <th></th>\n",
              "      <th></th>\n",
              "      <th></th>\n",
              "      <th></th>\n",
              "      <th></th>\n",
              "      <th></th>\n",
              "      <th></th>\n",
              "      <th></th>\n",
              "      <th></th>\n",
              "      <th></th>\n",
              "      <th></th>\n",
              "      <th></th>\n",
              "      <th></th>\n",
              "      <th></th>\n",
              "      <th></th>\n",
              "      <th></th>\n",
              "      <th></th>\n",
              "      <th></th>\n",
              "      <th></th>\n",
              "      <th></th>\n",
              "      <th></th>\n",
              "      <th></th>\n",
              "      <th></th>\n",
              "      <th></th>\n",
              "      <th></th>\n",
              "      <th></th>\n",
              "      <th></th>\n",
              "      <th></th>\n",
              "      <th></th>\n",
              "      <th></th>\n",
              "    </tr>\n",
              "  </thead>\n",
              "  <tbody>\n",
              "    <tr>\n",
              "      <th>93703.0</th>\n",
              "      <td>NaN</td>\n",
              "      <td>1.0</td>\n",
              "      <td>273.0</td>\n",
              "      <td>1.0</td>\n",
              "      <td>365.0</td>\n",
              "      <td>152.0</td>\n",
              "      <td>365.0</td>\n",
              "      <td>Whole or regular milk</td>\n",
              "      <td>NaN</td>\n",
              "      <td>NaN</td>\n",
              "      <td>NaN</td>\n",
              "      <td>NaN</td>\n",
              "      <td>NaN</td>\n",
              "      <td>NaN</td>\n",
              "      <td>Often-once a day or more?</td>\n",
              "      <td>NaN</td>\n",
              "      <td>NaN</td>\n",
              "      <td>12.0</td>\n",
              "      <td>NaN</td>\n",
              "      <td>NaN</td>\n",
              "      <td>NaN</td>\n",
              "      <td>NaN</td>\n",
              "      <td>NaN</td>\n",
              "      <td>NaN</td>\n",
              "      <td>NaN</td>\n",
              "      <td>NaN</td>\n",
              "      <td>NaN</td>\n",
              "      <td>NaN</td>\n",
              "      <td>NaN</td>\n",
              "      <td>NaN</td>\n",
              "      <td>NaN</td>\n",
              "      <td>NaN</td>\n",
              "      <td>NaN</td>\n",
              "      <td>NaN</td>\n",
              "      <td>NaN</td>\n",
              "      <td>1.000000e+01</td>\n",
              "      <td>5.397605e-79</td>\n",
              "      <td>5.397605e-79</td>\n",
              "      <td>1.000000e+00</td>\n",
              "      <td>NaN</td>\n",
              "      <td>...</td>\n",
              "      <td>NaN</td>\n",
              "      <td>NaN</td>\n",
              "      <td>NaN</td>\n",
              "      <td>NaN</td>\n",
              "      <td>NaN</td>\n",
              "      <td>NaN</td>\n",
              "      <td>NaN</td>\n",
              "      <td>NaN</td>\n",
              "      <td>NaN</td>\n",
              "      <td>NaN</td>\n",
              "      <td>NaN</td>\n",
              "      <td>NaN</td>\n",
              "      <td>NaN</td>\n",
              "      <td>NaN</td>\n",
              "      <td>NaN</td>\n",
              "      <td>NaN</td>\n",
              "      <td>NaN</td>\n",
              "      <td>NaN</td>\n",
              "      <td>0</td>\n",
              "      <td>NaN</td>\n",
              "      <td>NaN</td>\n",
              "      <td>NaN</td>\n",
              "      <td>NaN</td>\n",
              "      <td>0.0</td>\n",
              "      <td>NaN</td>\n",
              "      <td>NaN</td>\n",
              "      <td>NaN</td>\n",
              "      <td>NaN</td>\n",
              "      <td>NaN</td>\n",
              "      <td>NaN</td>\n",
              "      <td>NaN</td>\n",
              "      <td>NaN</td>\n",
              "      <td>NaN</td>\n",
              "      <td>NaN</td>\n",
              "      <td>NaN</td>\n",
              "      <td>NaN</td>\n",
              "      <td>NaN</td>\n",
              "      <td>NaN</td>\n",
              "      <td>NaN</td>\n",
              "      <td>NaN</td>\n",
              "    </tr>\n",
              "    <tr>\n",
              "      <th>93704.0</th>\n",
              "      <td>NaN</td>\n",
              "      <td>1.0</td>\n",
              "      <td>60.0</td>\n",
              "      <td>3.0</td>\n",
              "      <td>365.0</td>\n",
              "      <td>126.0</td>\n",
              "      <td>365.0</td>\n",
              "      <td>Whole or regular milk</td>\n",
              "      <td>NaN</td>\n",
              "      <td>NaN</td>\n",
              "      <td>NaN</td>\n",
              "      <td>NaN</td>\n",
              "      <td>NaN</td>\n",
              "      <td>NaN</td>\n",
              "      <td>Sometimes-once a week or more but less than on...</td>\n",
              "      <td>NaN</td>\n",
              "      <td>NaN</td>\n",
              "      <td>12.0</td>\n",
              "      <td>NaN</td>\n",
              "      <td>NaN</td>\n",
              "      <td>NaN</td>\n",
              "      <td>NaN</td>\n",
              "      <td>NaN</td>\n",
              "      <td>NaN</td>\n",
              "      <td>NaN</td>\n",
              "      <td>NaN</td>\n",
              "      <td>NaN</td>\n",
              "      <td>NaN</td>\n",
              "      <td>NaN</td>\n",
              "      <td>NaN</td>\n",
              "      <td>NaN</td>\n",
              "      <td>NaN</td>\n",
              "      <td>NaN</td>\n",
              "      <td>NaN</td>\n",
              "      <td>NaN</td>\n",
              "      <td>5.397605e-79</td>\n",
              "      <td>NaN</td>\n",
              "      <td>5.397605e-79</td>\n",
              "      <td>5.397605e-79</td>\n",
              "      <td>NaN</td>\n",
              "      <td>...</td>\n",
              "      <td>0.0</td>\n",
              "      <td>NaN</td>\n",
              "      <td>NaN</td>\n",
              "      <td>NaN</td>\n",
              "      <td>NaN</td>\n",
              "      <td>NaN</td>\n",
              "      <td>1230.0</td>\n",
              "      <td>51.58</td>\n",
              "      <td>160.46</td>\n",
              "      <td>76.97</td>\n",
              "      <td>5.9</td>\n",
              "      <td>43.24</td>\n",
              "      <td>11.372</td>\n",
              "      <td>14.333</td>\n",
              "      <td>12.506</td>\n",
              "      <td>144.0</td>\n",
              "      <td>5.397605e-79</td>\n",
              "      <td>0.0</td>\n",
              "      <td>0</td>\n",
              "      <td>NaN</td>\n",
              "      <td>NaN</td>\n",
              "      <td>NaN</td>\n",
              "      <td>NaN</td>\n",
              "      <td>0.0</td>\n",
              "      <td>NaN</td>\n",
              "      <td>NaN</td>\n",
              "      <td>NaN</td>\n",
              "      <td>NaN</td>\n",
              "      <td>NaN</td>\n",
              "      <td>NaN</td>\n",
              "      <td>NaN</td>\n",
              "      <td>NaN</td>\n",
              "      <td>NaN</td>\n",
              "      <td>NaN</td>\n",
              "      <td>NaN</td>\n",
              "      <td>NaN</td>\n",
              "      <td>NaN</td>\n",
              "      <td>NaN</td>\n",
              "      <td>NaN</td>\n",
              "      <td>NaN</td>\n",
              "    </tr>\n",
              "    <tr>\n",
              "      <th>93705.0</th>\n",
              "      <td>Good</td>\n",
              "      <td>NaN</td>\n",
              "      <td>NaN</td>\n",
              "      <td>NaN</td>\n",
              "      <td>NaN</td>\n",
              "      <td>NaN</td>\n",
              "      <td>NaN</td>\n",
              "      <td>NaN</td>\n",
              "      <td>NaN</td>\n",
              "      <td>NaN</td>\n",
              "      <td>NaN</td>\n",
              "      <td>NaN</td>\n",
              "      <td>NaN</td>\n",
              "      <td>Good</td>\n",
              "      <td>Sometimes-once a week or more but less than on...</td>\n",
              "      <td>NaN</td>\n",
              "      <td>NaN</td>\n",
              "      <td>NaN</td>\n",
              "      <td>NaN</td>\n",
              "      <td>NaN</td>\n",
              "      <td>30.0</td>\n",
              "      <td>{My/His/Her} milk drinking has varied over {my...</td>\n",
              "      <td>Often-once a day or more</td>\n",
              "      <td>Sometimes-once a week or more but less than on...</td>\n",
              "      <td>Sometimes-once a week or more but less than on...</td>\n",
              "      <td>0.0</td>\n",
              "      <td>0.0</td>\n",
              "      <td>NaN</td>\n",
              "      <td>NaN</td>\n",
              "      <td>NaN</td>\n",
              "      <td>NaN</td>\n",
              "      <td>NaN</td>\n",
              "      <td>NaN</td>\n",
              "      <td>NaN</td>\n",
              "      <td>NaN</td>\n",
              "      <td>5.000000e+00</td>\n",
              "      <td>5.397605e-79</td>\n",
              "      <td>5.397605e-79</td>\n",
              "      <td>5.397605e-79</td>\n",
              "      <td>0.0</td>\n",
              "      <td>...</td>\n",
              "      <td>0.0</td>\n",
              "      <td>NaN</td>\n",
              "      <td>NaN</td>\n",
              "      <td>NaN</td>\n",
              "      <td>NaN</td>\n",
              "      <td>NaN</td>\n",
              "      <td>1202.0</td>\n",
              "      <td>20.01</td>\n",
              "      <td>157.45</td>\n",
              "      <td>91.55</td>\n",
              "      <td>8.4</td>\n",
              "      <td>56.98</td>\n",
              "      <td>16.435</td>\n",
              "      <td>16.432</td>\n",
              "      <td>19.786</td>\n",
              "      <td>14.0</td>\n",
              "      <td>5.397605e-79</td>\n",
              "      <td>NaN</td>\n",
              "      <td>0</td>\n",
              "      <td>NaN</td>\n",
              "      <td>0.0</td>\n",
              "      <td>0.0</td>\n",
              "      <td>NaN</td>\n",
              "      <td>0.0</td>\n",
              "      <td>NaN</td>\n",
              "      <td>NaN</td>\n",
              "      <td>6.2</td>\n",
              "      <td>1.0</td>\n",
              "      <td>16.0</td>\n",
              "      <td>Not at all</td>\n",
              "      <td>NaN</td>\n",
              "      <td>NaN</td>\n",
              "      <td>NaN</td>\n",
              "      <td>NaN</td>\n",
              "      <td>NaN</td>\n",
              "      <td>NaN</td>\n",
              "      <td>63.0</td>\n",
              "      <td>165.0</td>\n",
              "      <td>0.0</td>\n",
              "      <td>11 times or more</td>\n",
              "    </tr>\n",
              "    <tr>\n",
              "      <th>93706.0</th>\n",
              "      <td>Very good</td>\n",
              "      <td>NaN</td>\n",
              "      <td>NaN</td>\n",
              "      <td>NaN</td>\n",
              "      <td>NaN</td>\n",
              "      <td>NaN</td>\n",
              "      <td>NaN</td>\n",
              "      <td>NaN</td>\n",
              "      <td>NaN</td>\n",
              "      <td>NaN</td>\n",
              "      <td>NaN</td>\n",
              "      <td>NaN</td>\n",
              "      <td>NaN</td>\n",
              "      <td>Very good</td>\n",
              "      <td>Never</td>\n",
              "      <td>NaN</td>\n",
              "      <td>NaN</td>\n",
              "      <td>NaN</td>\n",
              "      <td>NaN</td>\n",
              "      <td>NaN</td>\n",
              "      <td>NaN</td>\n",
              "      <td>NaN</td>\n",
              "      <td>NaN</td>\n",
              "      <td>NaN</td>\n",
              "      <td>NaN</td>\n",
              "      <td>NaN</td>\n",
              "      <td>NaN</td>\n",
              "      <td>0.0</td>\n",
              "      <td>NaN</td>\n",
              "      <td>NaN</td>\n",
              "      <td>NaN</td>\n",
              "      <td>NaN</td>\n",
              "      <td>NaN</td>\n",
              "      <td>NaN</td>\n",
              "      <td>NaN</td>\n",
              "      <td>6.000000e+00</td>\n",
              "      <td>3.000000e+00</td>\n",
              "      <td>5.397605e-79</td>\n",
              "      <td>5.397605e-79</td>\n",
              "      <td>0.0</td>\n",
              "      <td>...</td>\n",
              "      <td>0.0</td>\n",
              "      <td>NaN</td>\n",
              "      <td>NaN</td>\n",
              "      <td>NaN</td>\n",
              "      <td>NaN</td>\n",
              "      <td>NaN</td>\n",
              "      <td>1987.0</td>\n",
              "      <td>94.19</td>\n",
              "      <td>89.82</td>\n",
              "      <td>14.73</td>\n",
              "      <td>7.1</td>\n",
              "      <td>137.39</td>\n",
              "      <td>35.169</td>\n",
              "      <td>45.805</td>\n",
              "      <td>49.873</td>\n",
              "      <td>462.0</td>\n",
              "      <td>5.397605e-79</td>\n",
              "      <td>0.0</td>\n",
              "      <td>0</td>\n",
              "      <td>NaN</td>\n",
              "      <td>0.0</td>\n",
              "      <td>0.0</td>\n",
              "      <td>NaN</td>\n",
              "      <td>0.0</td>\n",
              "      <td>NaN</td>\n",
              "      <td>NaN</td>\n",
              "      <td>5.2</td>\n",
              "      <td>0.0</td>\n",
              "      <td>NaN</td>\n",
              "      <td>NaN</td>\n",
              "      <td>NaN</td>\n",
              "      <td>NaN</td>\n",
              "      <td>NaN</td>\n",
              "      <td>NaN</td>\n",
              "      <td>NaN</td>\n",
              "      <td>NaN</td>\n",
              "      <td>68.0</td>\n",
              "      <td>145.0</td>\n",
              "      <td>0.0</td>\n",
              "      <td>Never</td>\n",
              "    </tr>\n",
              "    <tr>\n",
              "      <th>93707.0</th>\n",
              "      <td>Good</td>\n",
              "      <td>NaN</td>\n",
              "      <td>NaN</td>\n",
              "      <td>NaN</td>\n",
              "      <td>NaN</td>\n",
              "      <td>NaN</td>\n",
              "      <td>NaN</td>\n",
              "      <td>NaN</td>\n",
              "      <td>NaN</td>\n",
              "      <td>NaN</td>\n",
              "      <td>NaN</td>\n",
              "      <td>NaN</td>\n",
              "      <td>NaN</td>\n",
              "      <td>NaN</td>\n",
              "      <td>Never</td>\n",
              "      <td>NaN</td>\n",
              "      <td>NaN</td>\n",
              "      <td>NaN</td>\n",
              "      <td>NaN</td>\n",
              "      <td>NaN</td>\n",
              "      <td>NaN</td>\n",
              "      <td>NaN</td>\n",
              "      <td>NaN</td>\n",
              "      <td>NaN</td>\n",
              "      <td>NaN</td>\n",
              "      <td>NaN</td>\n",
              "      <td>NaN</td>\n",
              "      <td>1.0</td>\n",
              "      <td>1.0</td>\n",
              "      <td>5.0</td>\n",
              "      <td>Reduced price</td>\n",
              "      <td>1.0</td>\n",
              "      <td>5.0</td>\n",
              "      <td>Reduced price</td>\n",
              "      <td>Did not attend summer program</td>\n",
              "      <td>1.000000e+00</td>\n",
              "      <td>1.000000e+00</td>\n",
              "      <td>6.000000e+00</td>\n",
              "      <td>4.000000e+00</td>\n",
              "      <td>NaN</td>\n",
              "      <td>...</td>\n",
              "      <td>0.0</td>\n",
              "      <td>NaN</td>\n",
              "      <td>NaN</td>\n",
              "      <td>NaN</td>\n",
              "      <td>NaN</td>\n",
              "      <td>NaN</td>\n",
              "      <td>1775.0</td>\n",
              "      <td>59.48</td>\n",
              "      <td>188.15</td>\n",
              "      <td>84.22</td>\n",
              "      <td>10.9</td>\n",
              "      <td>89.18</td>\n",
              "      <td>33.252</td>\n",
              "      <td>33.712</td>\n",
              "      <td>12.424</td>\n",
              "      <td>585.0</td>\n",
              "      <td>5.397605e-79</td>\n",
              "      <td>NaN</td>\n",
              "      <td>0</td>\n",
              "      <td>NaN</td>\n",
              "      <td>0.0</td>\n",
              "      <td>0.0</td>\n",
              "      <td>NaN</td>\n",
              "      <td>0.0</td>\n",
              "      <td>NaN</td>\n",
              "      <td>NaN</td>\n",
              "      <td>5.6</td>\n",
              "      <td>NaN</td>\n",
              "      <td>NaN</td>\n",
              "      <td>NaN</td>\n",
              "      <td>NaN</td>\n",
              "      <td>NaN</td>\n",
              "      <td>NaN</td>\n",
              "      <td>NaN</td>\n",
              "      <td>NaN</td>\n",
              "      <td>NaN</td>\n",
              "      <td>NaN</td>\n",
              "      <td>NaN</td>\n",
              "      <td>NaN</td>\n",
              "      <td>NaN</td>\n",
              "    </tr>\n",
              "  </tbody>\n",
              "</table>\n",
              "<p>5 rows × 197 columns</p>\n",
              "</div>"
            ],
            "text/plain": [
              "        GeneralHealthCondition  ...  TimesLost10LbsOrMoreToLoseWeight\n",
              "SEQN                            ...                                  \n",
              "93703.0                    NaN  ...                               NaN\n",
              "93704.0                    NaN  ...                               NaN\n",
              "93705.0                   Good  ...                  11 times or more\n",
              "93706.0              Very good  ...                             Never\n",
              "93707.0                   Good  ...                               NaN\n",
              "\n",
              "[5 rows x 197 columns]"
            ]
          },
          "metadata": {
            "tags": []
          },
          "execution_count": 11
        }
      ]
    },
    {
      "cell_type": "code",
      "metadata": {
        "colab": {
          "base_uri": "https://localhost:8080/"
        },
        "id": "9x1YibieIhu4",
        "outputId": "b7fbc141-30b7-49ed-b2c7-fe7a82be7b3a"
      },
      "source": [
        "nhanes_data.shape"
      ],
      "execution_count": null,
      "outputs": [
        {
          "output_type": "execute_result",
          "data": {
            "text/plain": [
              "(8366, 197)"
            ]
          },
          "metadata": {
            "tags": []
          },
          "execution_count": 12
        }
      ]
    },
    {
      "cell_type": "code",
      "metadata": {
        "colab": {
          "base_uri": "https://localhost:8080/"
        },
        "id": "Jzi8Ksb9Il_r",
        "outputId": "26a1e9f8-dead-465e-caf2-4b98a37f3cc6"
      },
      "source": [
        "nhanes_data.columns"
      ],
      "execution_count": null,
      "outputs": [
        {
          "output_type": "execute_result",
          "data": {
            "text/plain": [
              "Index(['GeneralHealthCondition', 'EverBreastfedOrFedBreastmilk',\n",
              "       'AgeStoppedBreastfeedingdays', 'AgeFirstFedFormuladays',\n",
              "       'AgeStoppedReceivingFormuladays', 'AgeStartedOtherFoodbeverage',\n",
              "       'AgeFirstFedMilkdays', 'TypeOfMilkFirstFedWholeMilk',\n",
              "       'TypeOfMilkFirstFed2Milk', 'TypeOfMilkFirstFed1Milk',\n",
              "       ...\n",
              "       'DaysSmokedCigsDuringPast30Days', 'AvgCigarettesdayDuringPast30Days',\n",
              "       'TriedToQuitSmoking', 'TimesStoppedSmokingCigarettes',\n",
              "       'HowLongWereYouAbleToStopSmoking',\n",
              "       'UnitOfMeasureDayweekmonthyear_2_SMQ',\n",
              "       'CurrentSelfreportedHeightInches', 'CurrentSelfreportedWeightPounds',\n",
              "       'TriedToLoseWeightInPastYear', 'TimesLost10LbsOrMoreToLoseWeight'],\n",
              "      dtype='object', length=197)"
            ]
          },
          "metadata": {
            "tags": []
          },
          "execution_count": 13
        }
      ]
    },
    {
      "cell_type": "code",
      "metadata": {
        "colab": {
          "base_uri": "https://localhost:8080/",
          "height": 80
        },
        "id": "bCNoQ9bKIxji",
        "outputId": "09786caf-d453-434e-c3fb-04c4cb986b5b"
      },
      "source": [
        "my_subset = nhanes_data.loc[[93703, 93808, 102951,102955,93707], ['GeneralHealthCondition', 'AgeStoppedBreastfeedingdays','AgeInYearsAtScreening']]\n",
        "my_subset.dropna()"
      ],
      "execution_count": null,
      "outputs": [
        {
          "output_type": "execute_result",
          "data": {
            "text/html": [
              "<div>\n",
              "<style scoped>\n",
              "    .dataframe tbody tr th:only-of-type {\n",
              "        vertical-align: middle;\n",
              "    }\n",
              "\n",
              "    .dataframe tbody tr th {\n",
              "        vertical-align: top;\n",
              "    }\n",
              "\n",
              "    .dataframe thead th {\n",
              "        text-align: right;\n",
              "    }\n",
              "</style>\n",
              "<table border=\"1\" class=\"dataframe\">\n",
              "  <thead>\n",
              "    <tr style=\"text-align: right;\">\n",
              "      <th></th>\n",
              "      <th>GeneralHealthCondition</th>\n",
              "      <th>AgeStoppedBreastfeedingdays</th>\n",
              "      <th>AgeInYearsAtScreening</th>\n",
              "    </tr>\n",
              "    <tr>\n",
              "      <th>SEQN</th>\n",
              "      <th></th>\n",
              "      <th></th>\n",
              "      <th></th>\n",
              "    </tr>\n",
              "  </thead>\n",
              "  <tbody>\n",
              "  </tbody>\n",
              "</table>\n",
              "</div>"
            ],
            "text/plain": [
              "Empty DataFrame\n",
              "Columns: [GeneralHealthCondition, AgeStoppedBreastfeedingdays, AgeInYearsAtScreening]\n",
              "Index: []"
            ]
          },
          "metadata": {
            "tags": []
          },
          "execution_count": 17
        }
      ]
    },
    {
      "cell_type": "code",
      "metadata": {
        "colab": {
          "base_uri": "https://localhost:8080/",
          "height": 235
        },
        "id": "u2JYyDixJmAT",
        "outputId": "3b9844b5-5bf9-4aef-c9b9-6e8431583e7b"
      },
      "source": [
        "my_subset = nhanes_data.loc[[93703, 93808, 102951,102955,93707], ['Gender']]\n",
        "my_subset"
      ],
      "execution_count": null,
      "outputs": [
        {
          "output_type": "execute_result",
          "data": {
            "text/html": [
              "<div>\n",
              "<style scoped>\n",
              "    .dataframe tbody tr th:only-of-type {\n",
              "        vertical-align: middle;\n",
              "    }\n",
              "\n",
              "    .dataframe tbody tr th {\n",
              "        vertical-align: top;\n",
              "    }\n",
              "\n",
              "    .dataframe thead th {\n",
              "        text-align: right;\n",
              "    }\n",
              "</style>\n",
              "<table border=\"1\" class=\"dataframe\">\n",
              "  <thead>\n",
              "    <tr style=\"text-align: right;\">\n",
              "      <th></th>\n",
              "      <th>Gender</th>\n",
              "    </tr>\n",
              "    <tr>\n",
              "      <th>SEQN</th>\n",
              "      <th></th>\n",
              "    </tr>\n",
              "  </thead>\n",
              "  <tbody>\n",
              "    <tr>\n",
              "      <th>93703</th>\n",
              "      <td>Female</td>\n",
              "    </tr>\n",
              "    <tr>\n",
              "      <th>93808</th>\n",
              "      <td>Male</td>\n",
              "    </tr>\n",
              "    <tr>\n",
              "      <th>102951</th>\n",
              "      <td>Male</td>\n",
              "    </tr>\n",
              "    <tr>\n",
              "      <th>102955</th>\n",
              "      <td>Female</td>\n",
              "    </tr>\n",
              "    <tr>\n",
              "      <th>93707</th>\n",
              "      <td>Male</td>\n",
              "    </tr>\n",
              "  </tbody>\n",
              "</table>\n",
              "</div>"
            ],
            "text/plain": [
              "        Gender\n",
              "SEQN          \n",
              "93703   Female\n",
              "93808     Male\n",
              "102951    Male\n",
              "102955  Female\n",
              "93707     Male"
            ]
          },
          "metadata": {
            "tags": []
          },
          "execution_count": 35
        }
      ]
    },
    {
      "cell_type": "code",
      "metadata": {
        "colab": {
          "base_uri": "https://localhost:8080/"
        },
        "id": "6j-xw9GaKMnc",
        "outputId": "79a39f31-bb9f-41aa-8ec3-c41e83d60bc1"
      },
      "source": [
        "over_50_df = nhanes_data.query('AgeInYearsAtScreening > = 50')\n",
        "over_50_df.shape"
      ],
      "execution_count": null,
      "outputs": [
        {
          "output_type": "execute_result",
          "data": {
            "text/plain": [
              "(2898, 197)"
            ]
          },
          "metadata": {
            "tags": []
          },
          "execution_count": 20
        }
      ]
    },
    {
      "cell_type": "code",
      "metadata": {
        "colab": {
          "base_uri": "https://localhost:8080/",
          "height": 386
        },
        "id": "fbo4cFkBKiwO",
        "outputId": "6f23c365-eee5-402d-beb3-11d2a50717d0"
      },
      "source": [
        "over_50_df.head()"
      ],
      "execution_count": null,
      "outputs": [
        {
          "output_type": "execute_result",
          "data": {
            "text/html": [
              "<div>\n",
              "<style scoped>\n",
              "    .dataframe tbody tr th:only-of-type {\n",
              "        vertical-align: middle;\n",
              "    }\n",
              "\n",
              "    .dataframe tbody tr th {\n",
              "        vertical-align: top;\n",
              "    }\n",
              "\n",
              "    .dataframe thead th {\n",
              "        text-align: right;\n",
              "    }\n",
              "</style>\n",
              "<table border=\"1\" class=\"dataframe\">\n",
              "  <thead>\n",
              "    <tr style=\"text-align: right;\">\n",
              "      <th></th>\n",
              "      <th>GeneralHealthCondition</th>\n",
              "      <th>EverBreastfedOrFedBreastmilk</th>\n",
              "      <th>AgeStoppedBreastfeedingdays</th>\n",
              "      <th>AgeFirstFedFormuladays</th>\n",
              "      <th>AgeStoppedReceivingFormuladays</th>\n",
              "      <th>AgeStartedOtherFoodbeverage</th>\n",
              "      <th>AgeFirstFedMilkdays</th>\n",
              "      <th>TypeOfMilkFirstFedWholeMilk</th>\n",
              "      <th>TypeOfMilkFirstFed2Milk</th>\n",
              "      <th>TypeOfMilkFirstFed1Milk</th>\n",
              "      <th>TypeOfMilkFirstFedFatFreeMilk</th>\n",
              "      <th>TypeOfMilkFirstFedSoyMilk</th>\n",
              "      <th>TypeOfMilkFirstFedOther</th>\n",
              "      <th>HowHealthyIsTheDiet</th>\n",
              "      <th>Past30DayMilkProductConsumption</th>\n",
              "      <th>YouDrinkWholeOrRegularMilk</th>\n",
              "      <th>YouDrink2FatMilk</th>\n",
              "      <th>YouDrink1FatMilk</th>\n",
              "      <th>YouDrinkFatFreeskimMilk</th>\n",
              "      <th>YouDrinkSoyMilk</th>\n",
              "      <th>YouDrinkAnotherTypeOfMilk</th>\n",
              "      <th>RegularMilkUse5TimesPerWeek</th>\n",
              "      <th>HowOftenDrankMilkAge512</th>\n",
              "      <th>HowOftenDrankMilkAge1317</th>\n",
              "      <th>HowOftenDrankMilkAge1835</th>\n",
              "      <th>CommunitygovernmentMealsDelivered</th>\n",
              "      <th>EatMealsAtCommunityseniorCenter</th>\n",
              "      <th>AttendKindergartenThruHighSchool</th>\n",
              "      <th>SchoolServesSchoolLunches</th>\n",
              "      <th>OfTimesweekGetSchoolLunch</th>\n",
              "      <th>SchoolLunchFreeReducedOrFullPrice</th>\n",
              "      <th>SchoolServeCompleteBreakfastEachDay</th>\n",
              "      <th>OfTimesweekGetSchoolBreakfast</th>\n",
              "      <th>SchoolBreakfastFreereducedfullPrice</th>\n",
              "      <th>SummerProgramMealFreereducedPrice</th>\n",
              "      <th>OfMealsNotHomePrepared</th>\n",
              "      <th>OfMealsFromFastFoodOrPizzaPlace</th>\n",
              "      <th>OfReadytoeatFoodsInPast30Days</th>\n",
              "      <th>OfFrozenMealspizzaInPast30Days</th>\n",
              "      <th>HeardOfMyPlate</th>\n",
              "      <th>...</th>\n",
              "      <th>OnSpecialDiet</th>\n",
              "      <th>WeightLosslowCalorieDiet</th>\n",
              "      <th>LowFatlowCholesterolDiet</th>\n",
              "      <th>LowSaltlowSodiumDiet</th>\n",
              "      <th>DiabeticDiet</th>\n",
              "      <th>LowCarbohydrateDiet</th>\n",
              "      <th>EnergyKcal_DR1TOT</th>\n",
              "      <th>ProteinGm_DR1TOT</th>\n",
              "      <th>CarbohydrateGm_DR1TOT</th>\n",
              "      <th>TotalSugarsGm_DR1TOT</th>\n",
              "      <th>DietaryFiberGm_DR1TOT</th>\n",
              "      <th>TotalFatGm_DR1TOT</th>\n",
              "      <th>TotalSaturatedFattyAcidsGm_DR1TOT</th>\n",
              "      <th>TotalMonounsaturatedFattyAcidsGm_DR1TOT</th>\n",
              "      <th>TotalPolyunsaturatedFattyAcidsGm_DR1TOT</th>\n",
              "      <th>CholesterolMg_DR1TOT</th>\n",
              "      <th>AlcoholGm_DR1TOT</th>\n",
              "      <th>TunaEatenDuringPast30Days</th>\n",
              "      <th>DoctorToldYouHaveDiabetes</th>\n",
              "      <th>AgeWhenFirstToldYouHadDiabetes</th>\n",
              "      <th>EverToldYouHavePrediabetes</th>\n",
              "      <th>EverToldHaveHealthRiskForDiabetes</th>\n",
              "      <th>FamilyHistory</th>\n",
              "      <th>TakingInsulinNow</th>\n",
              "      <th>TakeDiabeticPillsToLowerBloodSugar</th>\n",
              "      <th>WhatWasYourLastA1CLevel</th>\n",
              "      <th>Glycohemoglobin</th>\n",
              "      <th>SmokedAtLeast100CigarettesInLife</th>\n",
              "      <th>AgeStartedSmokingCigarettesRegularly</th>\n",
              "      <th>DoYouNowSmokeCigarettes</th>\n",
              "      <th>DaysSmokedCigsDuringPast30Days</th>\n",
              "      <th>AvgCigarettesdayDuringPast30Days</th>\n",
              "      <th>TriedToQuitSmoking</th>\n",
              "      <th>TimesStoppedSmokingCigarettes</th>\n",
              "      <th>HowLongWereYouAbleToStopSmoking</th>\n",
              "      <th>UnitOfMeasureDayweekmonthyear_2_SMQ</th>\n",
              "      <th>CurrentSelfreportedHeightInches</th>\n",
              "      <th>CurrentSelfreportedWeightPounds</th>\n",
              "      <th>TriedToLoseWeightInPastYear</th>\n",
              "      <th>TimesLost10LbsOrMoreToLoseWeight</th>\n",
              "    </tr>\n",
              "    <tr>\n",
              "      <th>SEQN</th>\n",
              "      <th></th>\n",
              "      <th></th>\n",
              "      <th></th>\n",
              "      <th></th>\n",
              "      <th></th>\n",
              "      <th></th>\n",
              "      <th></th>\n",
              "      <th></th>\n",
              "      <th></th>\n",
              "      <th></th>\n",
              "      <th></th>\n",
              "      <th></th>\n",
              "      <th></th>\n",
              "      <th></th>\n",
              "      <th></th>\n",
              "      <th></th>\n",
              "      <th></th>\n",
              "      <th></th>\n",
              "      <th></th>\n",
              "      <th></th>\n",
              "      <th></th>\n",
              "      <th></th>\n",
              "      <th></th>\n",
              "      <th></th>\n",
              "      <th></th>\n",
              "      <th></th>\n",
              "      <th></th>\n",
              "      <th></th>\n",
              "      <th></th>\n",
              "      <th></th>\n",
              "      <th></th>\n",
              "      <th></th>\n",
              "      <th></th>\n",
              "      <th></th>\n",
              "      <th></th>\n",
              "      <th></th>\n",
              "      <th></th>\n",
              "      <th></th>\n",
              "      <th></th>\n",
              "      <th></th>\n",
              "      <th></th>\n",
              "      <th></th>\n",
              "      <th></th>\n",
              "      <th></th>\n",
              "      <th></th>\n",
              "      <th></th>\n",
              "      <th></th>\n",
              "      <th></th>\n",
              "      <th></th>\n",
              "      <th></th>\n",
              "      <th></th>\n",
              "      <th></th>\n",
              "      <th></th>\n",
              "      <th></th>\n",
              "      <th></th>\n",
              "      <th></th>\n",
              "      <th></th>\n",
              "      <th></th>\n",
              "      <th></th>\n",
              "      <th></th>\n",
              "      <th></th>\n",
              "      <th></th>\n",
              "      <th></th>\n",
              "      <th></th>\n",
              "      <th></th>\n",
              "      <th></th>\n",
              "      <th></th>\n",
              "      <th></th>\n",
              "      <th></th>\n",
              "      <th></th>\n",
              "      <th></th>\n",
              "      <th></th>\n",
              "      <th></th>\n",
              "      <th></th>\n",
              "      <th></th>\n",
              "      <th></th>\n",
              "      <th></th>\n",
              "      <th></th>\n",
              "      <th></th>\n",
              "      <th></th>\n",
              "      <th></th>\n",
              "    </tr>\n",
              "  </thead>\n",
              "  <tbody>\n",
              "    <tr>\n",
              "      <th>93705.0</th>\n",
              "      <td>Good</td>\n",
              "      <td>NaN</td>\n",
              "      <td>NaN</td>\n",
              "      <td>NaN</td>\n",
              "      <td>NaN</td>\n",
              "      <td>NaN</td>\n",
              "      <td>NaN</td>\n",
              "      <td>NaN</td>\n",
              "      <td>NaN</td>\n",
              "      <td>NaN</td>\n",
              "      <td>NaN</td>\n",
              "      <td>NaN</td>\n",
              "      <td>NaN</td>\n",
              "      <td>Good</td>\n",
              "      <td>Sometimes-once a week or more but less than on...</td>\n",
              "      <td>NaN</td>\n",
              "      <td>NaN</td>\n",
              "      <td>NaN</td>\n",
              "      <td>NaN</td>\n",
              "      <td>NaN</td>\n",
              "      <td>30.0</td>\n",
              "      <td>{My/His/Her} milk drinking has varied over {my...</td>\n",
              "      <td>Often-once a day or more</td>\n",
              "      <td>Sometimes-once a week or more but less than on...</td>\n",
              "      <td>Sometimes-once a week or more but less than on...</td>\n",
              "      <td>0.0</td>\n",
              "      <td>0.0</td>\n",
              "      <td>NaN</td>\n",
              "      <td>NaN</td>\n",
              "      <td>NaN</td>\n",
              "      <td>NaN</td>\n",
              "      <td>NaN</td>\n",
              "      <td>NaN</td>\n",
              "      <td>NaN</td>\n",
              "      <td>NaN</td>\n",
              "      <td>5.000000e+00</td>\n",
              "      <td>5.397605e-79</td>\n",
              "      <td>5.397605e-79</td>\n",
              "      <td>5.397605e-79</td>\n",
              "      <td>0.0</td>\n",
              "      <td>...</td>\n",
              "      <td>0.0</td>\n",
              "      <td>NaN</td>\n",
              "      <td>NaN</td>\n",
              "      <td>NaN</td>\n",
              "      <td>NaN</td>\n",
              "      <td>NaN</td>\n",
              "      <td>1202.0</td>\n",
              "      <td>20.01</td>\n",
              "      <td>157.45</td>\n",
              "      <td>91.55</td>\n",
              "      <td>8.4</td>\n",
              "      <td>56.98</td>\n",
              "      <td>16.435</td>\n",
              "      <td>16.432</td>\n",
              "      <td>19.786</td>\n",
              "      <td>14.0</td>\n",
              "      <td>5.397605e-79</td>\n",
              "      <td>NaN</td>\n",
              "      <td>0</td>\n",
              "      <td>NaN</td>\n",
              "      <td>0.0</td>\n",
              "      <td>0.0</td>\n",
              "      <td>NaN</td>\n",
              "      <td>0.0</td>\n",
              "      <td>NaN</td>\n",
              "      <td>NaN</td>\n",
              "      <td>6.2</td>\n",
              "      <td>1.0</td>\n",
              "      <td>16.0</td>\n",
              "      <td>Not at all</td>\n",
              "      <td>NaN</td>\n",
              "      <td>NaN</td>\n",
              "      <td>NaN</td>\n",
              "      <td>NaN</td>\n",
              "      <td>NaN</td>\n",
              "      <td>NaN</td>\n",
              "      <td>63.0</td>\n",
              "      <td>165.0</td>\n",
              "      <td>0.0</td>\n",
              "      <td>11 times or more</td>\n",
              "    </tr>\n",
              "    <tr>\n",
              "      <th>93708.0</th>\n",
              "      <td>Good</td>\n",
              "      <td>NaN</td>\n",
              "      <td>NaN</td>\n",
              "      <td>NaN</td>\n",
              "      <td>NaN</td>\n",
              "      <td>NaN</td>\n",
              "      <td>NaN</td>\n",
              "      <td>NaN</td>\n",
              "      <td>NaN</td>\n",
              "      <td>NaN</td>\n",
              "      <td>NaN</td>\n",
              "      <td>NaN</td>\n",
              "      <td>NaN</td>\n",
              "      <td>Excellent</td>\n",
              "      <td>Often-once a day or more?</td>\n",
              "      <td>Whole or regular</td>\n",
              "      <td>NaN</td>\n",
              "      <td>NaN</td>\n",
              "      <td>NaN</td>\n",
              "      <td>NaN</td>\n",
              "      <td>NaN</td>\n",
              "      <td>{I've/He's/She's} never been a regular milk dr...</td>\n",
              "      <td>NaN</td>\n",
              "      <td>NaN</td>\n",
              "      <td>NaN</td>\n",
              "      <td>0.0</td>\n",
              "      <td>0.0</td>\n",
              "      <td>NaN</td>\n",
              "      <td>NaN</td>\n",
              "      <td>NaN</td>\n",
              "      <td>NaN</td>\n",
              "      <td>NaN</td>\n",
              "      <td>NaN</td>\n",
              "      <td>NaN</td>\n",
              "      <td>NaN</td>\n",
              "      <td>2.000000e+00</td>\n",
              "      <td>5.397605e-79</td>\n",
              "      <td>4.000000e+00</td>\n",
              "      <td>5.397605e-79</td>\n",
              "      <td>0.0</td>\n",
              "      <td>...</td>\n",
              "      <td>0.0</td>\n",
              "      <td>NaN</td>\n",
              "      <td>NaN</td>\n",
              "      <td>NaN</td>\n",
              "      <td>NaN</td>\n",
              "      <td>NaN</td>\n",
              "      <td>1251.0</td>\n",
              "      <td>50.96</td>\n",
              "      <td>123.71</td>\n",
              "      <td>49.84</td>\n",
              "      <td>16.6</td>\n",
              "      <td>65.49</td>\n",
              "      <td>17.446</td>\n",
              "      <td>29.000</td>\n",
              "      <td>14.823</td>\n",
              "      <td>71.0</td>\n",
              "      <td>5.397605e-79</td>\n",
              "      <td>0.0</td>\n",
              "      <td>Borderline</td>\n",
              "      <td>NaN</td>\n",
              "      <td>NaN</td>\n",
              "      <td>0.0</td>\n",
              "      <td>NaN</td>\n",
              "      <td>0.0</td>\n",
              "      <td>0.0</td>\n",
              "      <td>NaN</td>\n",
              "      <td>6.2</td>\n",
              "      <td>0.0</td>\n",
              "      <td>NaN</td>\n",
              "      <td>NaN</td>\n",
              "      <td>NaN</td>\n",
              "      <td>NaN</td>\n",
              "      <td>NaN</td>\n",
              "      <td>NaN</td>\n",
              "      <td>NaN</td>\n",
              "      <td>NaN</td>\n",
              "      <td>60.0</td>\n",
              "      <td>118.0</td>\n",
              "      <td>0.0</td>\n",
              "      <td>Never</td>\n",
              "    </tr>\n",
              "    <tr>\n",
              "      <th>93709.0</th>\n",
              "      <td>NaN</td>\n",
              "      <td>NaN</td>\n",
              "      <td>NaN</td>\n",
              "      <td>NaN</td>\n",
              "      <td>NaN</td>\n",
              "      <td>NaN</td>\n",
              "      <td>NaN</td>\n",
              "      <td>NaN</td>\n",
              "      <td>NaN</td>\n",
              "      <td>NaN</td>\n",
              "      <td>NaN</td>\n",
              "      <td>NaN</td>\n",
              "      <td>NaN</td>\n",
              "      <td>Good</td>\n",
              "      <td>Never</td>\n",
              "      <td>NaN</td>\n",
              "      <td>NaN</td>\n",
              "      <td>NaN</td>\n",
              "      <td>NaN</td>\n",
              "      <td>NaN</td>\n",
              "      <td>NaN</td>\n",
              "      <td>{I've/He's/She's} never been a regular milk dr...</td>\n",
              "      <td>NaN</td>\n",
              "      <td>NaN</td>\n",
              "      <td>NaN</td>\n",
              "      <td>0.0</td>\n",
              "      <td>0.0</td>\n",
              "      <td>NaN</td>\n",
              "      <td>NaN</td>\n",
              "      <td>NaN</td>\n",
              "      <td>NaN</td>\n",
              "      <td>NaN</td>\n",
              "      <td>NaN</td>\n",
              "      <td>NaN</td>\n",
              "      <td>NaN</td>\n",
              "      <td>5.397605e-79</td>\n",
              "      <td>NaN</td>\n",
              "      <td>2.000000e+00</td>\n",
              "      <td>1.000000e+00</td>\n",
              "      <td>0.0</td>\n",
              "      <td>...</td>\n",
              "      <td>NaN</td>\n",
              "      <td>NaN</td>\n",
              "      <td>NaN</td>\n",
              "      <td>NaN</td>\n",
              "      <td>NaN</td>\n",
              "      <td>NaN</td>\n",
              "      <td>NaN</td>\n",
              "      <td>NaN</td>\n",
              "      <td>NaN</td>\n",
              "      <td>NaN</td>\n",
              "      <td>NaN</td>\n",
              "      <td>NaN</td>\n",
              "      <td>NaN</td>\n",
              "      <td>NaN</td>\n",
              "      <td>NaN</td>\n",
              "      <td>NaN</td>\n",
              "      <td>NaN</td>\n",
              "      <td>NaN</td>\n",
              "      <td>0</td>\n",
              "      <td>NaN</td>\n",
              "      <td>1.0</td>\n",
              "      <td>0.0</td>\n",
              "      <td>NaN</td>\n",
              "      <td>0.0</td>\n",
              "      <td>0.0</td>\n",
              "      <td>NaN</td>\n",
              "      <td>6.3</td>\n",
              "      <td>1.0</td>\n",
              "      <td>15.0</td>\n",
              "      <td>Every day</td>\n",
              "      <td>30.0</td>\n",
              "      <td>5.0</td>\n",
              "      <td>0.0</td>\n",
              "      <td>NaN</td>\n",
              "      <td>NaN</td>\n",
              "      <td>NaN</td>\n",
              "      <td>62.0</td>\n",
              "      <td>200.0</td>\n",
              "      <td>0.0</td>\n",
              "      <td>6 to 10</td>\n",
              "    </tr>\n",
              "    <tr>\n",
              "      <th>93711.0</th>\n",
              "      <td>Very good</td>\n",
              "      <td>NaN</td>\n",
              "      <td>NaN</td>\n",
              "      <td>NaN</td>\n",
              "      <td>NaN</td>\n",
              "      <td>NaN</td>\n",
              "      <td>NaN</td>\n",
              "      <td>NaN</td>\n",
              "      <td>NaN</td>\n",
              "      <td>NaN</td>\n",
              "      <td>NaN</td>\n",
              "      <td>NaN</td>\n",
              "      <td>NaN</td>\n",
              "      <td>Very good</td>\n",
              "      <td>Rarely-less than once a week</td>\n",
              "      <td>NaN</td>\n",
              "      <td>NaN</td>\n",
              "      <td>NaN</td>\n",
              "      <td>NaN</td>\n",
              "      <td>NaN</td>\n",
              "      <td>30.0</td>\n",
              "      <td>{My/His/Her} milk drinking has varied over {my...</td>\n",
              "      <td>Often-once a day or more</td>\n",
              "      <td>Sometimes-once a week or more but less than on...</td>\n",
              "      <td>Rarely-less than once a week</td>\n",
              "      <td>NaN</td>\n",
              "      <td>NaN</td>\n",
              "      <td>NaN</td>\n",
              "      <td>NaN</td>\n",
              "      <td>NaN</td>\n",
              "      <td>NaN</td>\n",
              "      <td>NaN</td>\n",
              "      <td>NaN</td>\n",
              "      <td>NaN</td>\n",
              "      <td>NaN</td>\n",
              "      <td>4.000000e+00</td>\n",
              "      <td>5.397605e-79</td>\n",
              "      <td>5.397605e-79</td>\n",
              "      <td>5.397605e-79</td>\n",
              "      <td>1.0</td>\n",
              "      <td>...</td>\n",
              "      <td>1.0</td>\n",
              "      <td>NaN</td>\n",
              "      <td>NaN</td>\n",
              "      <td>NaN</td>\n",
              "      <td>NaN</td>\n",
              "      <td>NaN</td>\n",
              "      <td>2840.0</td>\n",
              "      <td>101.33</td>\n",
              "      <td>339.60</td>\n",
              "      <td>148.21</td>\n",
              "      <td>44.5</td>\n",
              "      <td>124.24</td>\n",
              "      <td>41.268</td>\n",
              "      <td>39.560</td>\n",
              "      <td>31.340</td>\n",
              "      <td>546.0</td>\n",
              "      <td>5.397605e-79</td>\n",
              "      <td>NaN</td>\n",
              "      <td>0</td>\n",
              "      <td>NaN</td>\n",
              "      <td>0.0</td>\n",
              "      <td>0.0</td>\n",
              "      <td>NaN</td>\n",
              "      <td>0.0</td>\n",
              "      <td>NaN</td>\n",
              "      <td>NaN</td>\n",
              "      <td>5.7</td>\n",
              "      <td>0.0</td>\n",
              "      <td>NaN</td>\n",
              "      <td>NaN</td>\n",
              "      <td>NaN</td>\n",
              "      <td>NaN</td>\n",
              "      <td>NaN</td>\n",
              "      <td>NaN</td>\n",
              "      <td>NaN</td>\n",
              "      <td>NaN</td>\n",
              "      <td>69.0</td>\n",
              "      <td>142.0</td>\n",
              "      <td>0.0</td>\n",
              "      <td>Never</td>\n",
              "    </tr>\n",
              "    <tr>\n",
              "      <th>93713.0</th>\n",
              "      <td>Very good</td>\n",
              "      <td>NaN</td>\n",
              "      <td>NaN</td>\n",
              "      <td>NaN</td>\n",
              "      <td>NaN</td>\n",
              "      <td>NaN</td>\n",
              "      <td>NaN</td>\n",
              "      <td>NaN</td>\n",
              "      <td>NaN</td>\n",
              "      <td>NaN</td>\n",
              "      <td>NaN</td>\n",
              "      <td>NaN</td>\n",
              "      <td>NaN</td>\n",
              "      <td>Fair</td>\n",
              "      <td>Rarely-less than once a week</td>\n",
              "      <td>NaN</td>\n",
              "      <td>11.0</td>\n",
              "      <td>NaN</td>\n",
              "      <td>NaN</td>\n",
              "      <td>NaN</td>\n",
              "      <td>NaN</td>\n",
              "      <td>{I've/He's/She's} been a regular milk drinker ...</td>\n",
              "      <td>Sometimes-once a week or more but less than on...</td>\n",
              "      <td>Rarely-less than once a week</td>\n",
              "      <td>Sometimes-once a week or more but less than on...</td>\n",
              "      <td>0.0</td>\n",
              "      <td>0.0</td>\n",
              "      <td>NaN</td>\n",
              "      <td>NaN</td>\n",
              "      <td>NaN</td>\n",
              "      <td>NaN</td>\n",
              "      <td>NaN</td>\n",
              "      <td>NaN</td>\n",
              "      <td>NaN</td>\n",
              "      <td>NaN</td>\n",
              "      <td>5.397605e-79</td>\n",
              "      <td>NaN</td>\n",
              "      <td>8.000000e+00</td>\n",
              "      <td>3.000000e+00</td>\n",
              "      <td>0.0</td>\n",
              "      <td>...</td>\n",
              "      <td>0.0</td>\n",
              "      <td>NaN</td>\n",
              "      <td>NaN</td>\n",
              "      <td>NaN</td>\n",
              "      <td>NaN</td>\n",
              "      <td>NaN</td>\n",
              "      <td>2040.0</td>\n",
              "      <td>61.40</td>\n",
              "      <td>201.09</td>\n",
              "      <td>109.91</td>\n",
              "      <td>14.6</td>\n",
              "      <td>114.30</td>\n",
              "      <td>36.172</td>\n",
              "      <td>35.873</td>\n",
              "      <td>32.371</td>\n",
              "      <td>176.0</td>\n",
              "      <td>5.397605e-79</td>\n",
              "      <td>NaN</td>\n",
              "      <td>0</td>\n",
              "      <td>NaN</td>\n",
              "      <td>0.0</td>\n",
              "      <td>0.0</td>\n",
              "      <td>NaN</td>\n",
              "      <td>0.0</td>\n",
              "      <td>NaN</td>\n",
              "      <td>NaN</td>\n",
              "      <td>5.6</td>\n",
              "      <td>1.0</td>\n",
              "      <td>14.0</td>\n",
              "      <td>Every day</td>\n",
              "      <td>30.0</td>\n",
              "      <td>15.0</td>\n",
              "      <td>1.0</td>\n",
              "      <td>3.0</td>\n",
              "      <td>1.0</td>\n",
              "      <td>Days</td>\n",
              "      <td>70.0</td>\n",
              "      <td>165.0</td>\n",
              "      <td>0.0</td>\n",
              "      <td>Never</td>\n",
              "    </tr>\n",
              "  </tbody>\n",
              "</table>\n",
              "<p>5 rows × 197 columns</p>\n",
              "</div>"
            ],
            "text/plain": [
              "        GeneralHealthCondition  ...  TimesLost10LbsOrMoreToLoseWeight\n",
              "SEQN                            ...                                  \n",
              "93705.0                   Good  ...                  11 times or more\n",
              "93708.0                   Good  ...                             Never\n",
              "93709.0                    NaN  ...                           6 to 10\n",
              "93711.0              Very good  ...                             Never\n",
              "93713.0              Very good  ...                             Never\n",
              "\n",
              "[5 rows x 197 columns]"
            ]
          },
          "metadata": {
            "tags": []
          },
          "execution_count": 22
        }
      ]
    },
    {
      "cell_type": "code",
      "metadata": {
        "colab": {
          "base_uri": "https://localhost:8080/"
        },
        "id": "i8uMnJj_Kr3c",
        "outputId": "1d9abb68-bd36-4700-8df6-1b292b730b08"
      },
      "source": [
        "good_health_df = nhanes_data.query('GeneralHealthCondition == \"\"')\n",
        "good_health_df.shape"
      ],
      "execution_count": null,
      "outputs": [
        {
          "output_type": "execute_result",
          "data": {
            "text/plain": [
              "(0, 197)"
            ]
          },
          "metadata": {
            "tags": []
          },
          "execution_count": 27
        }
      ]
    },
    {
      "cell_type": "code",
      "metadata": {
        "id": "MvxiMXxDK_kk"
      },
      "source": [
        "nhanes_data['WeightLbs'] = nhanes_data['WeightKg'] * 2.205"
      ],
      "execution_count": null,
      "outputs": []
    },
    {
      "cell_type": "code",
      "metadata": {
        "colab": {
          "base_uri": "https://localhost:8080/"
        },
        "id": "xrrOfL7CMB6k",
        "outputId": "97f1e8d3-ec85-4d6e-b779-4b4785504659"
      },
      "source": [
        "nhanes_data['Gender'].unique()"
      ],
      "execution_count": null,
      "outputs": [
        {
          "output_type": "execute_result",
          "data": {
            "text/plain": [
              "array(['Female', 'Male'], dtype=object)"
            ]
          },
          "metadata": {
            "tags": []
          },
          "execution_count": 39
        }
      ]
    },
    {
      "cell_type": "code",
      "metadata": {
        "colab": {
          "base_uri": "https://localhost:8080/"
        },
        "id": "2FYh6ZrBMfgg",
        "outputId": "428f59e3-48a0-4006-c494-8a8df65649dc"
      },
      "source": [
        "nhanes_data['GeneralHealthConditionRevised'] = nhanes_data['GeneralHealthCondition'].replace({np.nan : 'None'})\n",
        "nhanes_data['GeneralHealthConditionRevised'].unique()"
      ],
      "execution_count": null,
      "outputs": [
        {
          "output_type": "execute_result",
          "data": {
            "text/plain": [
              "array(['None', 'Good', 'Very good', 'Fair or', 'Excellent', 'Poor?'],\n",
              "      dtype=object)"
            ]
          },
          "metadata": {
            "tags": []
          },
          "execution_count": 54
        }
      ]
    },
    {
      "cell_type": "code",
      "metadata": {
        "id": "HszGEDzlNDVV"
      },
      "source": [
        "from nhanes.load import open_variable_page\n",
        "open_variable_page('GeneralHealthCondition')"
      ],
      "execution_count": null,
      "outputs": []
    },
    {
      "cell_type": "code",
      "metadata": {
        "colab": {
          "base_uri": "https://localhost:8080/"
        },
        "id": "AqYmETiGNzod",
        "outputId": "649e2c3a-f6d2-444d-9efb-96b2e946718f"
      },
      "source": [
        "nhanes_data['GeneralHealthCondition'].value_counts()"
      ],
      "execution_count": null,
      "outputs": [
        {
          "output_type": "execute_result",
          "data": {
            "text/plain": [
              "Good         2454\n",
              "Very good    1544\n",
              "Fair or      1175\n",
              "Excellent     619\n",
              "Poor?         172\n",
              "Name: GeneralHealthCondition, dtype: int64"
            ]
          },
          "metadata": {
            "tags": []
          },
          "execution_count": 62
        }
      ]
    },
    {
      "cell_type": "code",
      "metadata": {
        "id": "8JRBT_cWPJDR"
      },
      "source": [
        "GeneralHealthCondition_frequency_dist = nhanes_data['GeneralHealthCondition'].value_counts()\n"
      ],
      "execution_count": null,
      "outputs": []
    },
    {
      "cell_type": "code",
      "metadata": {
        "colab": {
          "base_uri": "https://localhost:8080/"
        },
        "id": "WPVNWvapP7sZ",
        "outputId": "c40a1a05-c03b-451d-8485-f33f8f726838"
      },
      "source": [
        "GeneralHealthCondition_frequency_dist * 100/ GeneralHealthCondition_frequency_dist.sum()"
      ],
      "execution_count": null,
      "outputs": [
        {
          "output_type": "execute_result",
          "data": {
            "text/plain": [
              "Good         41.146881\n",
              "Very good    25.888665\n",
              "Fair or      19.701543\n",
              "Excellent    10.378940\n",
              "Poor?         2.883970\n",
              "Name: GeneralHealthCondition, dtype: float64"
            ]
          },
          "metadata": {
            "tags": []
          },
          "execution_count": 68
        }
      ]
    },
    {
      "cell_type": "code",
      "metadata": {
        "colab": {
          "base_uri": "https://localhost:8080/"
        },
        "id": "mDPFN62wP9fQ",
        "outputId": "b8795209-e116-4e9e-8c2d-9f986078546e"
      },
      "source": [
        "nhanes_data['GeneralHealthConditionFixed'] = nhanes_data['GeneralHealthCondition'].replace({np.nan : 'None', 'Fair or': 'Fair', 'Poor?': 'Poor'})\n",
        "nhanes_data['GeneralHealthConditionFixed'].unique()"
      ],
      "execution_count": null,
      "outputs": [
        {
          "output_type": "execute_result",
          "data": {
            "text/plain": [
              "array(['None', 'Good', 'Very good', 'Fair', 'Excellent', 'Poor'],\n",
              "      dtype=object)"
            ]
          },
          "metadata": {
            "tags": []
          },
          "execution_count": 72
        }
      ]
    },
    {
      "cell_type": "code",
      "metadata": {
        "id": "MjrJWoPdQR8p"
      },
      "source": [
        "nhanes_data = load_NHANES_data()"
      ],
      "execution_count": null,
      "outputs": []
    },
    {
      "cell_type": "code",
      "metadata": {
        "colab": {
          "base_uri": "https://localhost:8080/",
          "height": 265
        },
        "id": "lEKZu-ncQ1kr",
        "outputId": "ebc200a6-9796-4bdd-f0cc-c338aac671c1"
      },
      "source": [
        "age_histogram = plt.hist(nhanes_data['AgeInYearsAtScreening'])"
      ],
      "execution_count": null,
      "outputs": [
        {
          "output_type": "display_data",
          "data": {
            "image/png": "[encoded data removed]",
            "text/plain": [
              "<Figure size 432x288 with 1 Axes>"
            ]
          },
          "metadata": {
            "tags": [],
            "needs_background": "light"
          }
        }
      ]
    },
    {
      "cell_type": "code",
      "metadata": {
        "colab": {
          "base_uri": "https://localhost:8080/",
          "height": 265
        },
        "id": "les14hQTSEjh",
        "outputId": "cd55c2b9-a955-4c73-9736-c7cc36068f8f"
      },
      "source": [
        "bins = np.arange(nhanes_data['AgeInYearsAtScreening'].min(), nhanes_data['AgeInYearsAtScreening'].max()+1)\n",
        "age_histogram_1year_bins = plt.hist(nhanes_data['AgeInYearsAtScreening'], bins=bins)"
      ],
      "execution_count": null,
      "outputs": [
        {
          "output_type": "display_data",
          "data": {
            "image/png": "[encoded data removed]",
            "text/plain": [
              "<Figure size 432x288 with 1 Axes>"
            ]
          },
          "metadata": {
            "tags": [],
            "needs_background": "light"
          }
        }
      ]
    },
    {
      "cell_type": "code",
      "metadata": {
        "colab": {
          "base_uri": "https://localhost:8080/",
          "height": 265
        },
        "id": "BdgoRsU9Stum",
        "outputId": "b2445039-9155-4733-959f-715f95234db8"
      },
      "source": [
        "age_density_1year_bins = plt.hist(nhanes_data['AgeInYearsAtScreening'], bins=bins, density=True)"
      ],
      "execution_count": null,
      "outputs": [
        {
          "output_type": "display_data",
          "data": {
            "image/png": "[encoded data removed]",
            "text/plain": [
              "<Figure size 432x288 with 1 Axes>"
            ]
          },
          "metadata": {
            "tags": [],
            "needs_background": "light"
          }
        }
      ]
    },
    {
      "cell_type": "code",
      "metadata": {
        "colab": {
          "base_uri": "https://localhost:8080/",
          "height": 282
        },
        "id": "vEJ9p3YuVtES",
        "outputId": "1022c5bb-f585-4046-caba-808521cbc0d1"
      },
      "source": [
        "plt.plot(age_density_1year_bins[1][1:], age_density_1year_bins[0])"
      ],
      "execution_count": null,
      "outputs": [
        {
          "output_type": "execute_result",
          "data": {
            "text/plain": [
              "[<matplotlib.lines.Line2D at 0x7f36cd1b0610>]"
            ]
          },
          "metadata": {
            "tags": []
          },
          "execution_count": 116
        },
        {
          "output_type": "display_data",
          "data": {
            "image/png": "[encoded data removed]",
            "text/plain": [
              "<Figure size 432x288 with 1 Axes>"
            ]
          },
          "metadata": {
            "tags": [],
            "needs_background": "light"
          }
        }
      ]
    },
    {
      "cell_type": "code",
      "metadata": {
        "colab": {
          "base_uri": "https://localhost:8080/",
          "height": 279
        },
        "id": "Gawd_gvbV_3R",
        "outputId": "cad06222-29a3-42bc-9738-9a4295176474"
      },
      "source": [
        "oring_data = pd.read_csv('https://raw.githubusercontent.com/statsthinking21/statsthinking21-python/master/notebooks/data/orings.csv', index_col=0)\n",
        "\n",
        "ax = sns.lineplot(x='Temperature', y='DamageIndex', data=oring_data, ci=None)\n",
        "plt.xlabel('Temperature at time of launch')\n",
        "plt.ylabel('Damage Index')\n",
        "ax.fill_between([26, 29], 0, 12, \n",
        "                facecolor='red', alpha=0.3)\n",
        "ax.text(27, 1, 'Forecasted temperature on Jan 28', rotation=90)\n",
        "plt.show()"
      ],
      "execution_count": null,
      "outputs": [
        {
          "output_type": "display_data",
          "data": {
            "image/png": "[encoded data removed]",
            "text/plain": [
              "<Figure size 432x288 with 1 Axes>"
            ]
          },
          "metadata": {
            "tags": [],
            "needs_background": "light"
          }
        }
      ]
    },
    {
      "cell_type": "code",
      "metadata": {
        "id": "WtMF17K60iLn"
      },
      "source": [
        "import pandas as pd\n",
        "SFrain = pd.read_csv('https://raw.githubusercontent.com/statsthinking21/statsthinking21-python/master/notebooks/data/SanFranciscoRain.csv')"
      ],
      "execution_count": 31,
      "outputs": []
    },
    {
      "cell_type": "code",
      "metadata": {
        "colab": {
          "base_uri": "https://localhost:8080/",
          "height": 419
        },
        "id": "Jth6zuhe0lL1",
        "outputId": "67641c3c-876d-43fc-cde3-8cd0e980a561"
      },
      "source": [
        "SFrain = SFrain.drop(columns=['STATION', 'NAME'])\n",
        "SFrain"
      ],
      "execution_count": 32,
      "outputs": [
        {
          "output_type": "execute_result",
          "data": {
            "text/html": [
              "<div>\n",
              "<style scoped>\n",
              "    .dataframe tbody tr th:only-of-type {\n",
              "        vertical-align: middle;\n",
              "    }\n",
              "\n",
              "    .dataframe tbody tr th {\n",
              "        vertical-align: top;\n",
              "    }\n",
              "\n",
              "    .dataframe thead th {\n",
              "        text-align: right;\n",
              "    }\n",
              "</style>\n",
              "<table border=\"1\" class=\"dataframe\">\n",
              "  <thead>\n",
              "    <tr style=\"text-align: right;\">\n",
              "      <th></th>\n",
              "      <th>DATE</th>\n",
              "      <th>PRCP</th>\n",
              "    </tr>\n",
              "  </thead>\n",
              "  <tbody>\n",
              "    <tr>\n",
              "      <th>0</th>\n",
              "      <td>2017-01-01</td>\n",
              "      <td>0.05</td>\n",
              "    </tr>\n",
              "    <tr>\n",
              "      <th>1</th>\n",
              "      <td>2017-01-02</td>\n",
              "      <td>0.10</td>\n",
              "    </tr>\n",
              "    <tr>\n",
              "      <th>2</th>\n",
              "      <td>2017-01-03</td>\n",
              "      <td>0.40</td>\n",
              "    </tr>\n",
              "    <tr>\n",
              "      <th>3</th>\n",
              "      <td>2017-01-04</td>\n",
              "      <td>0.89</td>\n",
              "    </tr>\n",
              "    <tr>\n",
              "      <th>4</th>\n",
              "      <td>2017-01-05</td>\n",
              "      <td>0.01</td>\n",
              "    </tr>\n",
              "    <tr>\n",
              "      <th>...</th>\n",
              "      <td>...</td>\n",
              "      <td>...</td>\n",
              "    </tr>\n",
              "    <tr>\n",
              "      <th>360</th>\n",
              "      <td>2017-12-27</td>\n",
              "      <td>0.00</td>\n",
              "    </tr>\n",
              "    <tr>\n",
              "      <th>361</th>\n",
              "      <td>2017-12-28</td>\n",
              "      <td>0.00</td>\n",
              "    </tr>\n",
              "    <tr>\n",
              "      <th>362</th>\n",
              "      <td>2017-12-29</td>\n",
              "      <td>0.00</td>\n",
              "    </tr>\n",
              "    <tr>\n",
              "      <th>363</th>\n",
              "      <td>2017-12-30</td>\n",
              "      <td>0.00</td>\n",
              "    </tr>\n",
              "    <tr>\n",
              "      <th>364</th>\n",
              "      <td>2017-12-31</td>\n",
              "      <td>0.00</td>\n",
              "    </tr>\n",
              "  </tbody>\n",
              "</table>\n",
              "<p>365 rows × 2 columns</p>\n",
              "</div>"
            ],
            "text/plain": [
              "           DATE  PRCP\n",
              "0    2017-01-01  0.05\n",
              "1    2017-01-02  0.10\n",
              "2    2017-01-03  0.40\n",
              "3    2017-01-04  0.89\n",
              "4    2017-01-05  0.01\n",
              "..          ...   ...\n",
              "360  2017-12-27  0.00\n",
              "361  2017-12-28  0.00\n",
              "362  2017-12-29  0.00\n",
              "363  2017-12-30  0.00\n",
              "364  2017-12-31  0.00\n",
              "\n",
              "[365 rows x 2 columns]"
            ]
          },
          "metadata": {
            "tags": []
          },
          "execution_count": 32
        }
      ]
    },
    {
      "cell_type": "code",
      "metadata": {
        "colab": {
          "base_uri": "https://localhost:8080/",
          "height": 419
        },
        "id": "lGMUWiky0vhH",
        "outputId": "d3406059-939b-4690-aeff-70b095b0958b"
      },
      "source": [
        "SFrain['rainToday'] = SFrain['PRCP'] > 0\n",
        "SFrain"
      ],
      "execution_count": 34,
      "outputs": [
        {
          "output_type": "execute_result",
          "data": {
            "text/html": [
              "<div>\n",
              "<style scoped>\n",
              "    .dataframe tbody tr th:only-of-type {\n",
              "        vertical-align: middle;\n",
              "    }\n",
              "\n",
              "    .dataframe tbody tr th {\n",
              "        vertical-align: top;\n",
              "    }\n",
              "\n",
              "    .dataframe thead th {\n",
              "        text-align: right;\n",
              "    }\n",
              "</style>\n",
              "<table border=\"1\" class=\"dataframe\">\n",
              "  <thead>\n",
              "    <tr style=\"text-align: right;\">\n",
              "      <th></th>\n",
              "      <th>DATE</th>\n",
              "      <th>PRCP</th>\n",
              "      <th>rainToday</th>\n",
              "    </tr>\n",
              "  </thead>\n",
              "  <tbody>\n",
              "    <tr>\n",
              "      <th>0</th>\n",
              "      <td>2017-01-01</td>\n",
              "      <td>0.05</td>\n",
              "      <td>True</td>\n",
              "    </tr>\n",
              "    <tr>\n",
              "      <th>1</th>\n",
              "      <td>2017-01-02</td>\n",
              "      <td>0.10</td>\n",
              "      <td>True</td>\n",
              "    </tr>\n",
              "    <tr>\n",
              "      <th>2</th>\n",
              "      <td>2017-01-03</td>\n",
              "      <td>0.40</td>\n",
              "      <td>True</td>\n",
              "    </tr>\n",
              "    <tr>\n",
              "      <th>3</th>\n",
              "      <td>2017-01-04</td>\n",
              "      <td>0.89</td>\n",
              "      <td>True</td>\n",
              "    </tr>\n",
              "    <tr>\n",
              "      <th>4</th>\n",
              "      <td>2017-01-05</td>\n",
              "      <td>0.01</td>\n",
              "      <td>True</td>\n",
              "    </tr>\n",
              "    <tr>\n",
              "      <th>...</th>\n",
              "      <td>...</td>\n",
              "      <td>...</td>\n",
              "      <td>...</td>\n",
              "    </tr>\n",
              "    <tr>\n",
              "      <th>360</th>\n",
              "      <td>2017-12-27</td>\n",
              "      <td>0.00</td>\n",
              "      <td>False</td>\n",
              "    </tr>\n",
              "    <tr>\n",
              "      <th>361</th>\n",
              "      <td>2017-12-28</td>\n",
              "      <td>0.00</td>\n",
              "      <td>False</td>\n",
              "    </tr>\n",
              "    <tr>\n",
              "      <th>362</th>\n",
              "      <td>2017-12-29</td>\n",
              "      <td>0.00</td>\n",
              "      <td>False</td>\n",
              "    </tr>\n",
              "    <tr>\n",
              "      <th>363</th>\n",
              "      <td>2017-12-30</td>\n",
              "      <td>0.00</td>\n",
              "      <td>False</td>\n",
              "    </tr>\n",
              "    <tr>\n",
              "      <th>364</th>\n",
              "      <td>2017-12-31</td>\n",
              "      <td>0.00</td>\n",
              "      <td>False</td>\n",
              "    </tr>\n",
              "  </tbody>\n",
              "</table>\n",
              "<p>365 rows × 3 columns</p>\n",
              "</div>"
            ],
            "text/plain": [
              "           DATE  PRCP  rainToday\n",
              "0    2017-01-01  0.05       True\n",
              "1    2017-01-02  0.10       True\n",
              "2    2017-01-03  0.40       True\n",
              "3    2017-01-04  0.89       True\n",
              "4    2017-01-05  0.01       True\n",
              "..          ...   ...        ...\n",
              "360  2017-12-27  0.00      False\n",
              "361  2017-12-28  0.00      False\n",
              "362  2017-12-29  0.00      False\n",
              "363  2017-12-30  0.00      False\n",
              "364  2017-12-31  0.00      False\n",
              "\n",
              "[365 rows x 3 columns]"
            ]
          },
          "metadata": {
            "tags": []
          },
          "execution_count": 34
        }
      ]
    },
    {
      "cell_type": "code",
      "metadata": {
        "colab": {
          "base_uri": "https://localhost:8080/"
        },
        "id": "FMzQA3-Z01lc",
        "outputId": "53e4825a-eb7e-43ad-9885-f72ae1de2378"
      },
      "source": [
        "pRainInSF = SFrain['rainToday'].mean()\n",
        "pRainInSF"
      ],
      "execution_count": 35,
      "outputs": [
        {
          "output_type": "execute_result",
          "data": {
            "text/plain": [
              "0.2"
            ]
          },
          "metadata": {
            "tags": []
          },
          "execution_count": 35
        }
      ]
    },
    {
      "cell_type": "code",
      "metadata": {
        "id": "wDvcuVJj055n"
      },
      "source": [
        "from nhanes.load import load_NHANES_data\n",
        "nhanes_data = load_NHANES_data()\n",
        "\n",
        "nhanes_data['Over70'] = nhanes_data['AgeInYearsAtScreening'] > 70"
      ],
      "execution_count": 36,
      "outputs": []
    },
    {
      "cell_type": "code",
      "metadata": {
        "colab": {
          "base_uri": "https://localhost:8080/",
          "height": 450
        },
        "id": "m1bg87y10_ym",
        "outputId": "138d7415-e706-44bf-d80b-72cd77dc45fe"
      },
      "source": [
        "hearing_data = nhanes_data[['Over70', 'HaveSeriousDifficultyHearing']].dropna()\n",
        "hearing_data"
      ],
      "execution_count": 37,
      "outputs": [
        {
          "output_type": "execute_result",
          "data": {
            "text/html": [
              "<div>\n",
              "<style scoped>\n",
              "    .dataframe tbody tr th:only-of-type {\n",
              "        vertical-align: middle;\n",
              "    }\n",
              "\n",
              "    .dataframe tbody tr th {\n",
              "        vertical-align: top;\n",
              "    }\n",
              "\n",
              "    .dataframe thead th {\n",
              "        text-align: right;\n",
              "    }\n",
              "</style>\n",
              "<table border=\"1\" class=\"dataframe\">\n",
              "  <thead>\n",
              "    <tr style=\"text-align: right;\">\n",
              "      <th></th>\n",
              "      <th>Over70</th>\n",
              "      <th>HaveSeriousDifficultyHearing</th>\n",
              "    </tr>\n",
              "    <tr>\n",
              "      <th>SEQN</th>\n",
              "      <th></th>\n",
              "      <th></th>\n",
              "    </tr>\n",
              "  </thead>\n",
              "  <tbody>\n",
              "    <tr>\n",
              "      <th>93703.0</th>\n",
              "      <td>False</td>\n",
              "      <td>0.0</td>\n",
              "    </tr>\n",
              "    <tr>\n",
              "      <th>93704.0</th>\n",
              "      <td>False</td>\n",
              "      <td>0.0</td>\n",
              "    </tr>\n",
              "    <tr>\n",
              "      <th>93705.0</th>\n",
              "      <td>False</td>\n",
              "      <td>0.0</td>\n",
              "    </tr>\n",
              "    <tr>\n",
              "      <th>93706.0</th>\n",
              "      <td>False</td>\n",
              "      <td>0.0</td>\n",
              "    </tr>\n",
              "    <tr>\n",
              "      <th>93707.0</th>\n",
              "      <td>False</td>\n",
              "      <td>0.0</td>\n",
              "    </tr>\n",
              "    <tr>\n",
              "      <th>...</th>\n",
              "      <td>...</td>\n",
              "      <td>...</td>\n",
              "    </tr>\n",
              "    <tr>\n",
              "      <th>102952.0</th>\n",
              "      <td>False</td>\n",
              "      <td>0.0</td>\n",
              "    </tr>\n",
              "    <tr>\n",
              "      <th>102953.0</th>\n",
              "      <td>False</td>\n",
              "      <td>0.0</td>\n",
              "    </tr>\n",
              "    <tr>\n",
              "      <th>102954.0</th>\n",
              "      <td>False</td>\n",
              "      <td>0.0</td>\n",
              "    </tr>\n",
              "    <tr>\n",
              "      <th>102955.0</th>\n",
              "      <td>False</td>\n",
              "      <td>0.0</td>\n",
              "    </tr>\n",
              "    <tr>\n",
              "      <th>102956.0</th>\n",
              "      <td>False</td>\n",
              "      <td>0.0</td>\n",
              "    </tr>\n",
              "  </tbody>\n",
              "</table>\n",
              "<p>8365 rows × 2 columns</p>\n",
              "</div>"
            ],
            "text/plain": [
              "          Over70  HaveSeriousDifficultyHearing\n",
              "SEQN                                          \n",
              "93703.0    False                           0.0\n",
              "93704.0    False                           0.0\n",
              "93705.0    False                           0.0\n",
              "93706.0    False                           0.0\n",
              "93707.0    False                           0.0\n",
              "...          ...                           ...\n",
              "102952.0   False                           0.0\n",
              "102953.0   False                           0.0\n",
              "102954.0   False                           0.0\n",
              "102955.0   False                           0.0\n",
              "102956.0   False                           0.0\n",
              "\n",
              "[8365 rows x 2 columns]"
            ]
          },
          "metadata": {
            "tags": []
          },
          "execution_count": 37
        }
      ]
    },
    {
      "cell_type": "code",
      "metadata": {
        "colab": {
          "base_uri": "https://localhost:8080/"
        },
        "id": "sGz6DM5w1Kdd",
        "outputId": "627a70b6-f014-478a-c1d8-3da3e41f16f1"
      },
      "source": [
        "p_over_70 = hearing_data['Over70'].mean()\n",
        "p_over_70"
      ],
      "execution_count": 38,
      "outputs": [
        {
          "output_type": "execute_result",
          "data": {
            "text/plain": [
              "0.10531978481769277"
            ]
          },
          "metadata": {
            "tags": []
          },
          "execution_count": 38
        }
      ]
    },
    {
      "cell_type": "code",
      "metadata": {
        "colab": {
          "base_uri": "https://localhost:8080/"
        },
        "id": "l9ZfZ6jd1N79",
        "outputId": "5893c263-15a8-4052-8689-c64b010493cf"
      },
      "source": [
        "p_hearing_problem = hearing_data['HaveSeriousDifficultyHearing'].mean()\n",
        "p_hearing_problem"
      ],
      "execution_count": 39,
      "outputs": [
        {
          "output_type": "execute_result",
          "data": {
            "text/plain": [
              "0.06276150627615062"
            ]
          },
          "metadata": {
            "tags": []
          },
          "execution_count": 39
        }
      ]
    },
    {
      "cell_type": "code",
      "metadata": {
        "colab": {
          "base_uri": "https://localhost:8080/",
          "height": 142
        },
        "id": "9NaQQ65x1SHC",
        "outputId": "b943d083-89d2-40e5-9db1-943f26263261"
      },
      "source": [
        "joint_table = pd.crosstab(hearing_data.Over70, hearing_data['HaveSeriousDifficultyHearing'], normalize=True)\n",
        "joint_table"
      ],
      "execution_count": 40,
      "outputs": [
        {
          "output_type": "execute_result",
          "data": {
            "text/html": [
              "<div>\n",
              "<style scoped>\n",
              "    .dataframe tbody tr th:only-of-type {\n",
              "        vertical-align: middle;\n",
              "    }\n",
              "\n",
              "    .dataframe tbody tr th {\n",
              "        vertical-align: top;\n",
              "    }\n",
              "\n",
              "    .dataframe thead th {\n",
              "        text-align: right;\n",
              "    }\n",
              "</style>\n",
              "<table border=\"1\" class=\"dataframe\">\n",
              "  <thead>\n",
              "    <tr style=\"text-align: right;\">\n",
              "      <th>HaveSeriousDifficultyHearing</th>\n",
              "      <th>0.0</th>\n",
              "      <th>1.0</th>\n",
              "    </tr>\n",
              "    <tr>\n",
              "      <th>Over70</th>\n",
              "      <th></th>\n",
              "      <th></th>\n",
              "    </tr>\n",
              "  </thead>\n",
              "  <tbody>\n",
              "    <tr>\n",
              "      <th>False</th>\n",
              "      <td>0.859653</td>\n",
              "      <td>0.035027</td>\n",
              "    </tr>\n",
              "    <tr>\n",
              "      <th>True</th>\n",
              "      <td>0.077585</td>\n",
              "      <td>0.027735</td>\n",
              "    </tr>\n",
              "  </tbody>\n",
              "</table>\n",
              "</div>"
            ],
            "text/plain": [
              "HaveSeriousDifficultyHearing       0.0       1.0\n",
              "Over70                                          \n",
              "False                         0.859653  0.035027\n",
              "True                          0.077585  0.027735"
            ]
          },
          "metadata": {
            "tags": []
          },
          "execution_count": 40
        }
      ]
    },
    {
      "cell_type": "code",
      "metadata": {
        "colab": {
          "base_uri": "https://localhost:8080/"
        },
        "id": "xaDS3rKb1ZPG",
        "outputId": "51c31dea-3d80-4f5c-9e55-751abcdde16f"
      },
      "source": [
        "p_hearingproblem_given_over_70 = hearing_data.query('Over70 == True')['HaveSeriousDifficultyHearing'].mean()\n",
        "p_hearingproblem_given_over_70"
      ],
      "execution_count": 41,
      "outputs": [
        {
          "output_type": "execute_result",
          "data": {
            "text/plain": [
              "0.2633371169125993"
            ]
          },
          "metadata": {
            "tags": []
          },
          "execution_count": 41
        }
      ]
    },
    {
      "cell_type": "code",
      "metadata": {
        "colab": {
          "base_uri": "https://localhost:8080/"
        },
        "id": "6MR7X3hs1kjV",
        "outputId": "2fd681a9-8785-4539-d453-8a17dd1539c5"
      },
      "source": [
        "p_over_70_given_hearingproblem = hearing_data.query('HaveSeriousDifficultyHearing == True')['Over70'].mean()\n",
        "p_over_70_given_hearingproblem"
      ],
      "execution_count": 42,
      "outputs": [
        {
          "output_type": "execute_result",
          "data": {
            "text/plain": [
              "0.4419047619047619"
            ]
          },
          "metadata": {
            "tags": []
          },
          "execution_count": 42
        }
      ]
    },
    {
      "cell_type": "code",
      "metadata": {
        "id": "1w5n2R64WoWj"
      },
      "source": [
        "adult_nhanes_data = nhanes_data.query('AgeInYearsAtScreening > 17')\n",
        "adult_nhanes_data = adult_nhanes_data.dropna(subset=['StandingHeightCm']).rename(columns={'StandingHeightCm': 'Height'})\n"
      ],
      "execution_count": null,
      "outputs": []
    },
    {
      "cell_type": "code",
      "metadata": {
        "colab": {
          "base_uri": "https://localhost:8080/"
        },
        "id": "6Fm1z4TuXDiR",
        "outputId": "b921da4d-4879-4bcd-d9ae-4b36112fcb96"
      },
      "source": [
        "adult_nhanes_data.shape[1]"
      ],
      "execution_count": null,
      "outputs": [
        {
          "output_type": "execute_result",
          "data": {
            "text/plain": [
              "197"
            ]
          },
          "metadata": {
            "tags": []
          },
          "execution_count": 124
        }
      ]
    },
    {
      "cell_type": "code",
      "metadata": {
        "id": "AD7icF66XSFX",
        "colab": {
          "base_uri": "https://localhost:8080/"
        },
        "outputId": "5a3561b4-70ba-4b01-cdef-4b5d362bf9ea"
      },
      "source": [
        "!pip install nhanes\n",
        "from nhanes.load import load_NHANES_data\n",
        "nhanes_data = load_NHANES_data()\n",
        "\n",
        "from nhanes.load import load_NHANES_data\n",
        "nhanes_data = load_NHANES_data()\n",
        "adult_nhanes_data = nhanes_data.query('AgeInYearsAtScreening > 17')\n",
        "adult_nhanes_data = adult_nhanes_data.dropna(subset=['StandingHeightCm']).rename(columns={'StandingHeightCm': 'Height'})\n",
        "sample_size = 50\n",
        "num_samples = 5000\n",
        "\n",
        "import pandas as pd\n",
        "import numpy as np\n"
      ],
      "execution_count": 5,
      "outputs": [
        {
          "output_type": "stream",
          "text": [
            "Requirement already satisfied: nhanes in /usr/local/lib/python3.7/dist-packages (0.5.1)\n"
          ],
          "name": "stdout"
        }
      ]
    },
    {
      "cell_type": "code",
      "metadata": {
        "id": "Tb5X1cdpv259"
      },
      "source": [
        "sampling_results = pd.DataFrame({'mean': np.zeros(num_samples)})\n",
        "\n",
        "for sample_num in range(num_samples):\n",
        "    sample = adult_nhanes_data.sample(sample_size)\n",
        "    sampling_results.loc[sample_num, 'mean'] = sample['Height'].mean()"
      ],
      "execution_count": 6,
      "outputs": []
    },
    {
      "cell_type": "code",
      "metadata": {
        "colab": {
          "base_uri": "https://localhost:8080/",
          "height": 282
        },
        "id": "8WmCKCZvv3ZL",
        "outputId": "45a93fcf-f951-448f-a5a5-5e89e78707ef"
      },
      "source": [
        "import matplotlib.pyplot as plt\n",
        "import numpy as np\n",
        "import scipy.stats\n",
        "import seaborn as sns\n",
        "\n",
        "hist = plt.hist(sampling_results['mean'], 100, density=True)\n",
        "plt.axvline(x=adult_nhanes_data['Height'].mean(),\n",
        "            ymax=np.max(hist[0]), color='k')\n",
        "\n",
        "hist_bin_min = np.min(hist[1])\n",
        "hist_bin_max = np.max(hist[1])\n",
        "step_size = 0.01\n",
        "x_values = np.arange(hist_bin_min, hist_bin_max, step_size)\n",
        "normal_values = scipy.stats.norm.pdf(\n",
        "    x_values,\n",
        "    loc=sampling_results['mean'].mean(),\n",
        "    scale=sampling_results['mean'].std())\n",
        "plt.plot(x_values, normal_values, color='r')"
      ],
      "execution_count": 14,
      "outputs": [
        {
          "output_type": "execute_result",
          "data": {
            "text/plain": [
              "[<matplotlib.lines.Line2D at 0x7f39b30732d0>]"
            ]
          },
          "metadata": {
            "tags": []
          },
          "execution_count": 14
        },
        {
          "output_type": "display_data",
          "data": {
            "image/png": "[encoded data removed]",
            "text/plain": [
              "<Figure size 432x288 with 1 Axes>"
            ]
          },
          "metadata": {
            "tags": [],
            "needs_background": "light"
          }
        }
      ]
    },
    {
      "cell_type": "code",
      "metadata": {
        "colab": {
          "base_uri": "https://localhost:8080/",
          "height": 335
        },
        "id": "iJpRVkELwDyv",
        "outputId": "eb9f3cd5-d593-4b7e-e634-f8b256bbf9a1"
      },
      "source": [
        "plt.hist(adult_nhanes_data['AnnualFamilyIncome'])"
      ],
      "execution_count": 15,
      "outputs": [
        {
          "output_type": "execute_result",
          "data": {
            "text/plain": [
              "(array([369., 626., 925., 541., 357., 302., 241.,   0., 463., 902.]),\n",
              " array([  2000.,  11800.,  21600.,  31400.,  41200.,  51000.,  60800.,\n",
              "         70600.,  80400.,  90200., 100000.]),\n",
              " <a list of 10 Patch objects>)"
            ]
          },
          "metadata": {
            "tags": []
          },
          "execution_count": 15
        },
        {
          "output_type": "display_data",
          "data": {
            "image/png": "[encoded data removed]",
            "text/plain": [
              "<Figure size 432x288 with 1 Axes>"
            ]
          },
          "metadata": {
            "tags": [],
            "needs_background": "light"
          }
        }
      ]
    },
    {
      "cell_type": "code",
      "metadata": {
        "id": "8-VB2EcvyPW0"
      },
      "source": [
        "def sample_and_return_mean(df, variable_name, \n",
        "                           sample_size=250, num_samples=5000):\n",
        "   \n",
        "    sampling_distribution = pd.DataFrame({'mean': np.zeros(num_samples)})\n",
        "    for sample_number in range(num_samples):\n",
        "        sample_df = df.sample(sample_size)\n",
        "        sampling_distribution.loc[sample_number, 'mean'] = sample_df[variable_name].mean()\n",
        "    return(sampling_distribution)"
      ],
      "execution_count": 28,
      "outputs": []
    },
    {
      "cell_type": "code",
      "metadata": {
        "colab": {
          "base_uri": "https://localhost:8080/",
          "height": 265
        },
        "id": "rek0NFL1ytx6",
        "outputId": "5bfb89b1-20e2-4e3a-df7c-3f43219e1944"
      },
      "source": [
        "adult_income_data = adult_nhanes_data.dropna(subset=['AnnualFamilyIncome'])\n",
        "family_income_sampling_dist = sample_and_return_mean(adult_income_data, 'AnnualFamilyIncome')\n",
        "_ = plt.hist(family_income_sampling_dist['mean'], 100)"
      ],
      "execution_count": 29,
      "outputs": [
        {
          "output_type": "display_data",
          "data": {
            "image/png": "[encoded data removed]",
            "text/plain": [
              "<Figure size 432x288 with 1 Axes>"
            ]
          },
          "metadata": {
            "tags": [],
            "needs_background": "light"
          }
        }
      ]
    },
    {
      "cell_type": "code",
      "metadata": {
        "colab": {
          "base_uri": "https://localhost:8080/",
          "height": 421
        },
        "id": "2I9g8UpVyucr",
        "outputId": "cc10c818-801b-4d01-84e3-e217dbd4a341"
      },
      "source": [
        "plt.figure(figsize=(12, 6))\n",
        "plt.subplot(1, 2, 1)\n",
        "scipy.stats.probplot(adult_income_data['AnnualFamilyIncome'], plot=sns.mpl.pyplot)\n",
        "plt.title('Original data')\n",
        "\n",
        "plt.subplot(1, 2, 2)\n",
        "scipy.stats.probplot(family_income_sampling_dist['mean'], plot=sns.mpl.pyplot)\n",
        "plt.title('Sampling distribution')"
      ],
      "execution_count": 30,
      "outputs": [
        {
          "output_type": "execute_result",
          "data": {
            "text/plain": [
              "Text(0.5, 1.0, 'Sampling distribution')"
            ]
          },
          "metadata": {
            "tags": []
          },
          "execution_count": 30
        },
        {
          "output_type": "display_data",
          "data": {
            "image/png": "[encoded data removed]",
            "text/plain": [
              "<Figure size 864x432 with 2 Axes>"
            ]
          },
          "metadata": {
            "tags": [],
            "needs_background": "light"
          }
        }
      ]
    },
    {
      "cell_type": "code",
      "metadata": {
        "id": "Y7I7FcGVz2aD"
      },
      "source": [
        "def get_confidence_interval(df, variable_name, ci_percent=95,sample_size=50):\n",
        "    sample_df = df.sample(sample_size)\n",
        "    mean = sample_df[variable_name].mean()\n",
        "    std = sample_df[variable_name].std()\n",
        "    sem = std / np.sqrt(sample_size)\n",
        "    t_tail_proportion = 1 - ((100 - ci_percent) / 100) / 2\n",
        "    t_cutoff = scipy.stats.t.ppf(t_tail_proportion, sample_size - 1)\n",
        "    upper_ci = mean + sem * t_cutoff\n",
        "    lower_ci = mean - sem * t_cutoff\n",
        "    return([lower_ci, upper_ci])"
      ],
      "execution_count": 44,
      "outputs": []
    },
    {
      "cell_type": "code",
      "metadata": {
        "id": "CRvhy_-h4PG6"
      },
      "source": [
        "\n",
        "num_runs = 1000\n",
        "\n",
        "ci_df = pd.DataFrame({'lower': np.zeros(num_runs),\n",
        "                      'upper': np.zeros(num_runs)})\n",
        "\n",
        "for i in range(num_runs):\n",
        "    ci_df.iloc[i, :] = get_confidence_interval(adult_nhanes_data,'Height')"
      ],
      "execution_count": 51,
      "outputs": []
    },
    {
      "cell_type": "code",
      "metadata": {
        "colab": {
          "base_uri": "https://localhost:8080/"
        },
        "id": "c7oZZsx25dU2",
        "outputId": "8ad76d8d-86fb-499b-a5a8-39768e780a2b"
      },
      "source": [
        "ci_df['captures_mean'] = (ci_df['lower'] < adult_nhanes_data['Height'].mean()) * (ci_df['upper'] > adult_nhanes_data['Height'].mean())\n",
        "ci_df['captures_mean'].mean()"
      ],
      "execution_count": 47,
      "outputs": [
        {
          "output_type": "stream",
          "text": [
            "/usr/local/lib/python3.7/dist-packages/pandas/core/computation/expressions.py:204: UserWarning: evaluating in Python space because the '*' operator is not supported by numexpr for the bool dtype, use '&' instead\n",
            "  f\"evaluating in Python space because the {repr(op_str)} \"\n"
          ],
          "name": "stderr"
        },
        {
          "output_type": "execute_result",
          "data": {
            "text/plain": [
              "0.962"
            ]
          },
          "metadata": {
            "tags": []
          },
          "execution_count": 47
        }
      ]
    },
    {
      "cell_type": "code",
      "metadata": {
        "colab": {
          "base_uri": "https://localhost:8080/",
          "height": 585
        },
        "id": "f2afPpH75jIl",
        "outputId": "92d81698-873b-41fd-9973-35bec1f9013a"
      },
      "source": [
        "import scipy.stats\n",
        "import matplotlib.pyplot as plt\n",
        "\n",
        "num_samples = 10000\n",
        "\n",
        "plt.figure(figsize=(8, 8))\n",
        "\n",
        "generators = {'Uniform': scipy.stats.uniform, \n",
        "              'Normal': scipy.stats.norm, \n",
        "              'Exponential': scipy.stats.expon,\n",
        "              'Chi-squared': scipy.stats.chi2}\n",
        "\n",
        "generator_parameters = {'Chi-squared': 10}\n",
        "panel_num = 1\n",
        "for distribution in generators:\n",
        "    plt.subplot(2, 2, panel_num)\n",
        "    if distribution in generator_parameters:\n",
        "        sample = generators[distribution].rvs(\n",
        "            generator_parameters[distribution], size=num_samples)\n",
        "    else:\n",
        "        sample = generators[distribution].rvs(size=num_samples)\n",
        "    plt.hist(sample, bins=100)\n",
        "    plt.title(distribution)\n",
        "    plt.xlabel('Value')\n",
        "    plt.ylabel('Density')\n",
        "    plt.tight_layout()\n",
        "    panel_num += 1"
      ],
      "execution_count": 55,
      "outputs": [
        {
          "output_type": "display_data",
          "data": {
            "image/png": "[encoded data removed]",
            "text/plain": [
              "<Figure size 576x576 with 4 Axes>"
            ]
          },
          "metadata": {
            "tags": [],
            "needs_background": "light"
          }
        }
      ]
    },
    {
      "cell_type": "code",
      "metadata": {
        "colab": {
          "base_uri": "https://localhost:8080/",
          "height": 279
        },
        "id": "0VyLexCnBa_-",
        "outputId": "8c21802e-2169-4b21-b68b-bf9c624b38bd"
      },
      "source": [
        "import numpy as np\n",
        "import pandas as pd\n",
        "\n",
        "num_runs = 5000\n",
        "sample_size = 150\n",
        "\n",
        "\n",
        "def sample_and_return_max(sample_size, \n",
        "                          distribution=None):\n",
        "\n",
        "    if distribution is None:\n",
        "        distribution = scipy.stats.norm\n",
        "    \n",
        "    sample = distribution.rvs(size=sample_size)\n",
        "    return(np.max(sample))\n",
        "\n",
        "\n",
        "sample_max_df = pd.DataFrame({'max': np.zeros(num_runs)})\n",
        "\n",
        "for i in range(num_runs):\n",
        "    sample_max_df.loc[i, 'max'] = sample_and_return_max(sample_size)\n",
        "\n",
        "cutoff = scipy.stats.scoreatpercentile(sample_max_df['max'], 95)\n",
        "hist = plt.hist(sample_max_df['max'], bins=100)\n",
        "plt.ylabel('Count')\n",
        "plt.xlabel('Maximum value')\n",
        "_ = plt.axvline(x=cutoff, ymax=np.max(hist[0]), color='k')"
      ],
      "execution_count": 64,
      "outputs": [
        {
          "output_type": "display_data",
          "data": {
            "image/png": "[encoded data removed]",
            "text/plain": [
              "<Figure size 432x288 with 1 Axes>"
            ]
          },
          "metadata": {
            "tags": [],
            "needs_background": "light"
          }
        }
      ]
    },
    {
      "cell_type": "code",
      "metadata": {
        "id": "O4cLe5mzBmTk"
      },
      "source": [
        ""
      ],
      "execution_count": null,
      "outputs": []
    }
  ]
}